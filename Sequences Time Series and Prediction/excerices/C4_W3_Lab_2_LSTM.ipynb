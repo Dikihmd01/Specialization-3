{
  "cells": [
    {
      "cell_type": "markdown",
      "metadata": {
        "id": "Eb_ng5-9VStm"
      },
      "source": [
        "<a href=\"https://colab.research.google.com/github/https-deeplearning-ai/tensorflow-1-public/blob/main/C4/W3/ungraded_labs/C4_W3_Lab_2_LSTM.ipynb\" target=\"_parent\"><img src=\"https://colab.research.google.com/assets/colab-badge.svg\" alt=\"Open In Colab\"/></a>"
      ]
    },
    {
      "cell_type": "markdown",
      "metadata": {
        "id": "sV_nvXSQGJPK"
      },
      "source": [
        "# Ungraded Lab: Using a multi-layer LSTM for forecasting\n",
        "\n",
        "In this lab, you will use the same RNN architecure in the first lab but will instead stack [LSTM](https://www.tensorflow.org/api_docs/python/tf/keras/layers/LSTM) layers instead of `SimpleRNN`."
      ]
    },
    {
      "cell_type": "markdown",
      "metadata": {
        "id": "3IMbAWETGOWD"
      },
      "source": [
        "## Imports"
      ]
    },
    {
      "cell_type": "code",
      "execution_count": 1,
      "metadata": {
        "id": "BOjujz601HcS"
      },
      "outputs": [],
      "source": [
        "import tensorflow as tf\n",
        "import numpy as np\n",
        "import matplotlib.pyplot as plt"
      ]
    },
    {
      "cell_type": "markdown",
      "metadata": {
        "id": "kD7RQQ0xGQVH"
      },
      "source": [
        "## Utilities"
      ]
    },
    {
      "cell_type": "code",
      "execution_count": 2,
      "metadata": {
        "id": "Zswl7jRtGzkk"
      },
      "outputs": [],
      "source": [
        "def plot_series(time, series, format=\"-\", start=0, end=None):\n",
        "    \"\"\"\n",
        "    Visualizes time series data\n",
        "\n",
        "    Args:\n",
        "      time (array of int) - contains the time steps\n",
        "      series (array of int) - contains the measurements for each time step\n",
        "      format - line style when plotting the graph\n",
        "      start - first time step to plot\n",
        "      end - last time step to plot\n",
        "    \"\"\"\n",
        "\n",
        "    # Setup dimensions of the graph figure\n",
        "    plt.figure(figsize=(10, 6))\n",
        "    \n",
        "    if type(series) is tuple:\n",
        "\n",
        "      for series_num in series:\n",
        "        # Plot the time series data\n",
        "        plt.plot(time[start:end], series_num[start:end], format)\n",
        "\n",
        "    else:\n",
        "      # Plot the time series data\n",
        "      plt.plot(time[start:end], series[start:end], format)\n",
        "\n",
        "    # Label the x-axis\n",
        "    plt.xlabel(\"Time\")\n",
        "\n",
        "    # Label the y-axis\n",
        "    plt.ylabel(\"Value\")\n",
        "\n",
        "    # Overlay a grid on the graph\n",
        "    plt.grid(True)\n",
        "\n",
        "    # Draw the graph on screen\n",
        "    plt.show()\n",
        "\n",
        "def trend(time, slope=0):\n",
        "    \"\"\"\n",
        "    Generates synthetic data that follows a straight line given a slope value.\n",
        "\n",
        "    Args:\n",
        "      time (array of int) - contains the time steps\n",
        "      slope (float) - determines the direction and steepness of the line\n",
        "\n",
        "    Returns:\n",
        "      series (array of float) - measurements that follow a straight line\n",
        "    \"\"\"\n",
        "\n",
        "    # Compute the linear series given the slope\n",
        "    series = slope * time\n",
        "\n",
        "    return series\n",
        "\n",
        "def seasonal_pattern(season_time):\n",
        "    \"\"\"\n",
        "    Just an arbitrary pattern, you can change it if you wish\n",
        "    \n",
        "    Args:\n",
        "      season_time (array of float) - contains the measurements per time step\n",
        "\n",
        "    Returns:\n",
        "      data_pattern (array of float) -  contains revised measurement values according \n",
        "                                  to the defined pattern\n",
        "    \"\"\"\n",
        "\n",
        "    # Generate the values using an arbitrary pattern\n",
        "    data_pattern = np.where(season_time < 0.4,\n",
        "                    np.cos(season_time * 2 * np.pi),\n",
        "                    1 / np.exp(3 * season_time))\n",
        "    \n",
        "    return data_pattern\n",
        "\n",
        "def seasonality(time, period, amplitude=1, phase=0):\n",
        "    \"\"\"\n",
        "    Repeats the same pattern at each period\n",
        "\n",
        "    Args:\n",
        "      time (array of int) - contains the time steps\n",
        "      period (int) - number of time steps before the pattern repeats\n",
        "      amplitude (int) - peak measured value in a period\n",
        "      phase (int) - number of time steps to shift the measured values\n",
        "\n",
        "    Returns:\n",
        "      data_pattern (array of float) - seasonal data scaled by the defined amplitude\n",
        "    \"\"\"\n",
        "    \n",
        "    # Define the measured values per period\n",
        "    season_time = ((time + phase) % period) / period\n",
        "\n",
        "    # Generates the seasonal data scaled by the defined amplitude\n",
        "    data_pattern = amplitude * seasonal_pattern(season_time)\n",
        "\n",
        "    return data_pattern\n",
        "\n",
        "def noise(time, noise_level=1, seed=None):\n",
        "    \"\"\"Generates a normally distributed noisy signal\n",
        "\n",
        "    Args:\n",
        "      time (array of int) - contains the time steps\n",
        "      noise_level (float) - scaling factor for the generated signal\n",
        "      seed (int) - number generator seed for repeatability\n",
        "\n",
        "    Returns:\n",
        "      noise (array of float) - the noisy signal\n",
        "    \"\"\"\n",
        "\n",
        "    # Initialize the random number generator\n",
        "    rnd = np.random.RandomState(seed)\n",
        "\n",
        "    # Generate a random number for each time step and scale by the noise level\n",
        "    noise = rnd.randn(len(time)) * noise_level\n",
        "    \n",
        "    return noise"
      ]
    },
    {
      "cell_type": "markdown",
      "metadata": {
        "id": "yxNyeFWjGSdj"
      },
      "source": [
        "## Generate the Synthetic Data"
      ]
    },
    {
      "cell_type": "code",
      "execution_count": 3,
      "metadata": {
        "id": "KYEUfDbdpHPm",
        "colab": {
          "base_uri": "https://localhost:8080/",
          "height": 388
        },
        "outputId": "442e432f-8bcb-4d6e-b10d-d0868aac9b17"
      },
      "outputs": [
        {
          "output_type": "display_data",
          "data": {
            "text/plain": [
              "<Figure size 720x432 with 1 Axes>"
            ],
            "image/png": "[encoded data removed]"
          },
          "metadata": {
            "needs_background": "light"
          }
        }
      ],
      "source": [
        "# Parameters\n",
        "time = np.arange(4 * 365 + 1, dtype=\"float32\")\n",
        "baseline = 10\n",
        "amplitude = 40\n",
        "slope = 0.05\n",
        "noise_level = 5\n",
        "\n",
        "# Create the series\n",
        "series = baseline + trend(time, slope) + seasonality(time, period=365, amplitude=amplitude)\n",
        "\n",
        "# Update with noise\n",
        "series += noise(time, noise_level, seed=42)\n",
        "\n",
        "# Plot the results\n",
        "plot_series(time, series)"
      ]
    },
    {
      "cell_type": "markdown",
      "metadata": {
        "id": "MYKCvv-eGWRc"
      },
      "source": [
        "## Split the Dataset"
      ]
    },
    {
      "cell_type": "code",
      "execution_count": 4,
      "metadata": {
        "id": "hpp0slenpKVD"
      },
      "outputs": [],
      "source": [
        "# Define the split time\n",
        "split_time = 1000\n",
        "\n",
        "# Get the train set \n",
        "time_train = time[:split_time]\n",
        "x_train = series[:split_time]\n",
        "\n",
        "# Get the validation set\n",
        "time_valid = time[split_time:]\n",
        "x_valid = series[split_time:]"
      ]
    },
    {
      "cell_type": "markdown",
      "metadata": {
        "id": "cktHz9aOGYtV"
      },
      "source": [
        "## Prepare Features and Labels"
      ]
    },
    {
      "cell_type": "code",
      "execution_count": 5,
      "metadata": {
        "id": "G_j_2_Mqwn7-"
      },
      "outputs": [],
      "source": [
        "# Parameters\n",
        "window_size = 20\n",
        "batch_size = 32\n",
        "shuffle_buffer_size = 1000"
      ]
    },
    {
      "cell_type": "code",
      "execution_count": 6,
      "metadata": {
        "id": "4sTTIOCbyShY"
      },
      "outputs": [],
      "source": [
        "def windowed_dataset(series, window_size, batch_size, shuffle_buffer):\n",
        "    \"\"\"Generates dataset windows\n",
        "\n",
        "    Args:\n",
        "      series (array of float) - contains the values of the time series\n",
        "      window_size (int) - the number of time steps to include in the feature\n",
        "      batch_size (int) - the batch size\n",
        "      shuffle_buffer(int) - buffer size to use for the shuffle method\n",
        "\n",
        "    Returns:\n",
        "      dataset (TF Dataset) - TF Dataset containing time windows\n",
        "    \"\"\"\n",
        "  \n",
        "    # Generate a TF Dataset from the series values\n",
        "    dataset = tf.data.Dataset.from_tensor_slices(series)\n",
        "    \n",
        "    # Window the data but only take those with the specified size\n",
        "    dataset = dataset.window(window_size + 1, shift=1, drop_remainder=True)\n",
        "    \n",
        "    # Flatten the windows by putting its elements in a single batch\n",
        "    dataset = dataset.flat_map(lambda window: window.batch(window_size + 1))\n",
        "\n",
        "    # Create tuples with features and labels \n",
        "    dataset = dataset.map(lambda window: (window[:-1], window[-1]))\n",
        "\n",
        "    # Shuffle the windows\n",
        "    dataset = dataset.shuffle(shuffle_buffer)\n",
        "    \n",
        "    # Create batches of windows\n",
        "    dataset = dataset.batch(batch_size).prefetch(1)\n",
        "    \n",
        "    return dataset"
      ]
    },
    {
      "cell_type": "code",
      "execution_count": 7,
      "metadata": {
        "id": "vGj5-InSwtQQ"
      },
      "outputs": [],
      "source": [
        "# Generate the dataset windows\n",
        "dataset = windowed_dataset(x_train, window_size, batch_size, shuffle_buffer_size)"
      ]
    },
    {
      "cell_type": "markdown",
      "metadata": {
        "id": "p9-Ke8ZaGcjd"
      },
      "source": [
        "## Build the Model\n",
        "\n",
        "As mentioned, you will swap `SimpleRNN` for `LSTM` in this lab. It is also set as bidirectional below but feel free to revise later and see what results you get. LSTMs are much more complex in their internal architecture than simpleRNNs. It implements a cell state that allows it to remember sequences better than simple implementations. This added complexity results in a bigger set of parameters to train and you'll see that when you print the model summary below."
      ]
    },
    {
      "cell_type": "code",
      "execution_count": 8,
      "metadata": {
        "id": "A1Hl39rklkLm",
        "colab": {
          "base_uri": "https://localhost:8080/"
        },
        "outputId": "c97ae2e4-fac9-40b4-fee2-9e71dfe67da1"
      },
      "outputs": [
        {
          "output_type": "stream",
          "name": "stdout",
          "text": [
            "Model: \"sequential\"\n",
            "_________________________________________________________________\n",
            " Layer (type)                Output Shape              Param #   \n",
            "=================================================================\n",
            " lambda (Lambda)             (None, 20, 1)             0         \n",
            "                                                                 \n",
            " bidirectional (Bidirectiona  (None, 20, 64)           8704      \n",
            " l)                                                              \n",
            "                                                                 \n",
            " bidirectional_1 (Bidirectio  (None, 64)               24832     \n",
            " nal)                                                            \n",
            "                                                                 \n",
            " dense (Dense)               (None, 1)                 65        \n",
            "                                                                 \n",
            " lambda_1 (Lambda)           (None, 1)                 0         \n",
            "                                                                 \n",
            "=================================================================\n",
            "Total params: 33,601\n",
            "Trainable params: 33,601\n",
            "Non-trainable params: 0\n",
            "_________________________________________________________________\n"
          ]
        }
      ],
      "source": [
        "# Build the Model\n",
        "model_tune = tf.keras.models.Sequential([\n",
        "  tf.keras.layers.Lambda(lambda x: tf.expand_dims(x, axis=-1),\n",
        "                      input_shape=[window_size]),\n",
        "    tf.keras.layers.Bidirectional(tf.keras.layers.LSTM(32, return_sequences=True)),\n",
        "  tf.keras.layers.Bidirectional(tf.keras.layers.LSTM(32)),\n",
        "  tf.keras.layers.Dense(1),\n",
        "  tf.keras.layers.Lambda(lambda x: x * 100.0)\n",
        "])\n",
        "\n",
        "# Print the model summary\n",
        "model_tune.summary()"
      ]
    },
    {
      "cell_type": "markdown",
      "metadata": {
        "id": "FHaFblbwq0GV"
      },
      "source": [
        "## Tune the Learning Rate\n",
        "\n",
        "As usual, you will pick a learning rate by running the tuning code below."
      ]
    },
    {
      "cell_type": "code",
      "execution_count": 9,
      "metadata": {
        "id": "qE7al18qw48G",
        "colab": {
          "base_uri": "https://localhost:8080/"
        },
        "outputId": "db13f35b-c438-4aa7-f7fd-8365201adb04"
      },
      "outputs": [
        {
          "output_type": "stream",
          "name": "stdout",
          "text": [
            "Epoch 1/100\n",
            "31/31 [==============================] - 16s 20ms/step - loss: 63.2003 - lr: 1.0000e-08\n",
            "Epoch 2/100\n",
            "31/31 [==============================] - 0s 10ms/step - loss: 62.2946 - lr: 1.1220e-08\n",
            "Epoch 3/100\n",
            "31/31 [==============================] - 0s 10ms/step - loss: 61.1406 - lr: 1.2589e-08\n",
            "Epoch 4/100\n",
            "31/31 [==============================] - 0s 10ms/step - loss: 59.7543 - lr: 1.4125e-08\n",
            "Epoch 5/100\n",
            "31/31 [==============================] - 0s 10ms/step - loss: 58.0491 - lr: 1.5849e-08\n",
            "Epoch 6/100\n",
            "31/31 [==============================] - 0s 9ms/step - loss: 55.9492 - lr: 1.7783e-08\n",
            "Epoch 7/100\n",
            "31/31 [==============================] - 0s 9ms/step - loss: 53.3808 - lr: 1.9953e-08\n",
            "Epoch 8/100\n",
            "31/31 [==============================] - 0s 10ms/step - loss: 50.3539 - lr: 2.2387e-08\n",
            "Epoch 9/100\n",
            "31/31 [==============================] - 0s 10ms/step - loss: 46.7621 - lr: 2.5119e-08\n",
            "Epoch 10/100\n",
            "31/31 [==============================] - 0s 10ms/step - loss: 40.5158 - lr: 2.8184e-08\n",
            "Epoch 11/100\n",
            "31/31 [==============================] - 0s 10ms/step - loss: 34.3982 - lr: 3.1623e-08\n",
            "Epoch 12/100\n",
            "31/31 [==============================] - 0s 10ms/step - loss: 30.9710 - lr: 3.5481e-08\n",
            "Epoch 13/100\n",
            "31/31 [==============================] - 0s 11ms/step - loss: 27.7521 - lr: 3.9811e-08\n",
            "Epoch 14/100\n",
            "31/31 [==============================] - 0s 10ms/step - loss: 24.4659 - lr: 4.4668e-08\n",
            "Epoch 15/100\n",
            "31/31 [==============================] - 0s 10ms/step - loss: 21.0866 - lr: 5.0119e-08\n",
            "Epoch 16/100\n",
            "31/31 [==============================] - 0s 10ms/step - loss: 17.6929 - lr: 5.6234e-08\n",
            "Epoch 17/100\n",
            "31/31 [==============================] - 0s 9ms/step - loss: 14.7456 - lr: 6.3096e-08\n",
            "Epoch 18/100\n",
            "31/31 [==============================] - 0s 10ms/step - loss: 12.7239 - lr: 7.0795e-08\n",
            "Epoch 19/100\n",
            "31/31 [==============================] - 0s 9ms/step - loss: 11.5255 - lr: 7.9433e-08\n",
            "Epoch 20/100\n",
            "31/31 [==============================] - 0s 9ms/step - loss: 10.9154 - lr: 8.9125e-08\n",
            "Epoch 21/100\n",
            "31/31 [==============================] - 0s 9ms/step - loss: 10.6349 - lr: 1.0000e-07\n",
            "Epoch 22/100\n",
            "31/31 [==============================] - 0s 10ms/step - loss: 10.4622 - lr: 1.1220e-07\n",
            "Epoch 23/100\n",
            "31/31 [==============================] - 0s 10ms/step - loss: 10.3251 - lr: 1.2589e-07\n",
            "Epoch 24/100\n",
            "31/31 [==============================] - 0s 9ms/step - loss: 10.1771 - lr: 1.4125e-07\n",
            "Epoch 25/100\n",
            "31/31 [==============================] - 0s 10ms/step - loss: 10.0231 - lr: 1.5849e-07\n",
            "Epoch 26/100\n",
            "31/31 [==============================] - 0s 10ms/step - loss: 9.8443 - lr: 1.7783e-07\n",
            "Epoch 27/100\n",
            "31/31 [==============================] - 0s 10ms/step - loss: 9.6645 - lr: 1.9953e-07\n",
            "Epoch 28/100\n",
            "31/31 [==============================] - 0s 10ms/step - loss: 9.4657 - lr: 2.2387e-07\n",
            "Epoch 29/100\n",
            "31/31 [==============================] - 0s 10ms/step - loss: 9.2717 - lr: 2.5119e-07\n",
            "Epoch 30/100\n",
            "31/31 [==============================] - 0s 10ms/step - loss: 9.0695 - lr: 2.8184e-07\n",
            "Epoch 31/100\n",
            "31/31 [==============================] - 0s 10ms/step - loss: 8.8683 - lr: 3.1623e-07\n",
            "Epoch 32/100\n",
            "31/31 [==============================] - 0s 10ms/step - loss: 8.6678 - lr: 3.5481e-07\n",
            "Epoch 33/100\n",
            "31/31 [==============================] - 0s 10ms/step - loss: 8.4827 - lr: 3.9811e-07\n",
            "Epoch 34/100\n",
            "31/31 [==============================] - 0s 10ms/step - loss: 8.3321 - lr: 4.4668e-07\n",
            "Epoch 35/100\n",
            "31/31 [==============================] - 0s 10ms/step - loss: 8.1666 - lr: 5.0119e-07\n",
            "Epoch 36/100\n",
            "31/31 [==============================] - 0s 10ms/step - loss: 8.0029 - lr: 5.6234e-07\n",
            "Epoch 37/100\n",
            "31/31 [==============================] - 0s 10ms/step - loss: 7.8767 - lr: 6.3096e-07\n",
            "Epoch 38/100\n",
            "31/31 [==============================] - 0s 10ms/step - loss: 7.7405 - lr: 7.0795e-07\n",
            "Epoch 39/100\n",
            "31/31 [==============================] - 0s 10ms/step - loss: 7.6008 - lr: 7.9433e-07\n",
            "Epoch 40/100\n",
            "31/31 [==============================] - 0s 10ms/step - loss: 7.4920 - lr: 8.9125e-07\n",
            "Epoch 41/100\n",
            "31/31 [==============================] - 0s 10ms/step - loss: 7.3895 - lr: 1.0000e-06\n",
            "Epoch 42/100\n",
            "31/31 [==============================] - 0s 10ms/step - loss: 7.3029 - lr: 1.1220e-06\n",
            "Epoch 43/100\n",
            "31/31 [==============================] - 0s 11ms/step - loss: 7.2512 - lr: 1.2589e-06\n",
            "Epoch 44/100\n",
            "31/31 [==============================] - 0s 10ms/step - loss: 7.2437 - lr: 1.4125e-06\n",
            "Epoch 45/100\n",
            "31/31 [==============================] - 0s 10ms/step - loss: 7.0933 - lr: 1.5849e-06\n",
            "Epoch 46/100\n",
            "31/31 [==============================] - 0s 10ms/step - loss: 6.9989 - lr: 1.7783e-06\n",
            "Epoch 47/100\n",
            "31/31 [==============================] - 0s 10ms/step - loss: 6.9318 - lr: 1.9953e-06\n",
            "Epoch 48/100\n",
            "31/31 [==============================] - 0s 10ms/step - loss: 6.8419 - lr: 2.2387e-06\n",
            "Epoch 49/100\n",
            "31/31 [==============================] - 0s 10ms/step - loss: 6.9212 - lr: 2.5119e-06\n",
            "Epoch 50/100\n",
            "31/31 [==============================] - 0s 10ms/step - loss: 6.7679 - lr: 2.8184e-06\n",
            "Epoch 51/100\n",
            "31/31 [==============================] - 0s 10ms/step - loss: 6.6710 - lr: 3.1623e-06\n",
            "Epoch 52/100\n",
            "31/31 [==============================] - 0s 10ms/step - loss: 6.4459 - lr: 3.5481e-06\n",
            "Epoch 53/100\n",
            "31/31 [==============================] - 0s 10ms/step - loss: 6.4121 - lr: 3.9811e-06\n",
            "Epoch 54/100\n",
            "31/31 [==============================] - 0s 10ms/step - loss: 6.3277 - lr: 4.4668e-06\n",
            "Epoch 55/100\n",
            "31/31 [==============================] - 0s 11ms/step - loss: 6.5155 - lr: 5.0119e-06\n",
            "Epoch 56/100\n",
            "31/31 [==============================] - 0s 11ms/step - loss: 6.1921 - lr: 5.6234e-06\n",
            "Epoch 57/100\n",
            "31/31 [==============================] - 0s 11ms/step - loss: 6.0528 - lr: 6.3096e-06\n",
            "Epoch 58/100\n",
            "31/31 [==============================] - 0s 11ms/step - loss: 6.0465 - lr: 7.0795e-06\n",
            "Epoch 59/100\n",
            "31/31 [==============================] - 0s 11ms/step - loss: 5.6438 - lr: 7.9433e-06\n",
            "Epoch 60/100\n",
            "31/31 [==============================] - 0s 10ms/step - loss: 5.5535 - lr: 8.9125e-06\n",
            "Epoch 61/100\n",
            "31/31 [==============================] - 0s 10ms/step - loss: 5.6783 - lr: 1.0000e-05\n",
            "Epoch 62/100\n",
            "31/31 [==============================] - 0s 10ms/step - loss: 6.3393 - lr: 1.1220e-05\n",
            "Epoch 63/100\n",
            "31/31 [==============================] - 0s 11ms/step - loss: 5.8093 - lr: 1.2589e-05\n",
            "Epoch 64/100\n",
            "31/31 [==============================] - 0s 11ms/step - loss: 6.9236 - lr: 1.4125e-05\n",
            "Epoch 65/100\n",
            "31/31 [==============================] - 0s 11ms/step - loss: 5.8907 - lr: 1.5849e-05\n",
            "Epoch 66/100\n",
            "31/31 [==============================] - 0s 11ms/step - loss: 5.6737 - lr: 1.7783e-05\n",
            "Epoch 67/100\n",
            "31/31 [==============================] - 0s 11ms/step - loss: 5.7898 - lr: 1.9953e-05\n",
            "Epoch 68/100\n",
            "31/31 [==============================] - 0s 11ms/step - loss: 5.5778 - lr: 2.2387e-05\n",
            "Epoch 69/100\n",
            "31/31 [==============================] - 0s 11ms/step - loss: 5.6972 - lr: 2.5119e-05\n",
            "Epoch 70/100\n",
            "31/31 [==============================] - 0s 11ms/step - loss: 5.9809 - lr: 2.8184e-05\n",
            "Epoch 71/100\n",
            "31/31 [==============================] - 0s 11ms/step - loss: 5.8834 - lr: 3.1623e-05\n",
            "Epoch 72/100\n",
            "31/31 [==============================] - 0s 11ms/step - loss: 5.9908 - lr: 3.5481e-05\n",
            "Epoch 73/100\n",
            "31/31 [==============================] - 0s 10ms/step - loss: 6.2211 - lr: 3.9811e-05\n",
            "Epoch 74/100\n",
            "31/31 [==============================] - 0s 11ms/step - loss: 5.2033 - lr: 4.4668e-05\n",
            "Epoch 75/100\n",
            "31/31 [==============================] - 0s 10ms/step - loss: 5.1770 - lr: 5.0119e-05\n",
            "Epoch 76/100\n",
            "31/31 [==============================] - 0s 11ms/step - loss: 4.9829 - lr: 5.6234e-05\n",
            "Epoch 77/100\n",
            "31/31 [==============================] - 0s 11ms/step - loss: 5.0089 - lr: 6.3096e-05\n",
            "Epoch 78/100\n",
            "31/31 [==============================] - 0s 11ms/step - loss: 6.3452 - lr: 7.0795e-05\n",
            "Epoch 79/100\n",
            "31/31 [==============================] - 0s 10ms/step - loss: 5.5424 - lr: 7.9433e-05\n",
            "Epoch 80/100\n",
            "31/31 [==============================] - 0s 11ms/step - loss: 6.3781 - lr: 8.9125e-05\n",
            "Epoch 81/100\n",
            "31/31 [==============================] - 0s 12ms/step - loss: 7.4167 - lr: 1.0000e-04\n",
            "Epoch 82/100\n",
            "31/31 [==============================] - 0s 11ms/step - loss: 6.3779 - lr: 1.1220e-04\n",
            "Epoch 83/100\n",
            "31/31 [==============================] - 0s 12ms/step - loss: 6.8856 - lr: 1.2589e-04\n",
            "Epoch 84/100\n",
            "31/31 [==============================] - 0s 11ms/step - loss: 7.1145 - lr: 1.4125e-04\n",
            "Epoch 85/100\n",
            "31/31 [==============================] - 0s 12ms/step - loss: 7.5996 - lr: 1.5849e-04\n",
            "Epoch 86/100\n",
            "31/31 [==============================] - 0s 11ms/step - loss: 8.7809 - lr: 1.7783e-04\n",
            "Epoch 87/100\n",
            "31/31 [==============================] - 0s 11ms/step - loss: 6.8944 - lr: 1.9953e-04\n",
            "Epoch 88/100\n",
            "31/31 [==============================] - 0s 11ms/step - loss: 9.0646 - lr: 2.2387e-04\n",
            "Epoch 89/100\n",
            "31/31 [==============================] - 0s 11ms/step - loss: 6.9059 - lr: 2.5119e-04\n",
            "Epoch 90/100\n",
            "31/31 [==============================] - 0s 11ms/step - loss: 7.6408 - lr: 2.8184e-04\n",
            "Epoch 91/100\n",
            "31/31 [==============================] - 0s 11ms/step - loss: 9.4548 - lr: 3.1623e-04\n",
            "Epoch 92/100\n",
            "31/31 [==============================] - 0s 11ms/step - loss: 6.6211 - lr: 3.5481e-04\n",
            "Epoch 93/100\n",
            "31/31 [==============================] - 0s 10ms/step - loss: 11.0072 - lr: 3.9811e-04\n",
            "Epoch 94/100\n",
            "31/31 [==============================] - 0s 10ms/step - loss: 12.2175 - lr: 4.4668e-04\n",
            "Epoch 95/100\n",
            "31/31 [==============================] - 0s 10ms/step - loss: 8.6509 - lr: 5.0119e-04\n",
            "Epoch 96/100\n",
            "31/31 [==============================] - 0s 11ms/step - loss: 8.2496 - lr: 5.6234e-04\n",
            "Epoch 97/100\n",
            "31/31 [==============================] - 0s 10ms/step - loss: 10.2082 - lr: 6.3096e-04\n",
            "Epoch 98/100\n",
            "31/31 [==============================] - 0s 11ms/step - loss: 9.3794 - lr: 7.0795e-04\n",
            "Epoch 99/100\n",
            "31/31 [==============================] - 0s 11ms/step - loss: 16.3597 - lr: 7.9433e-04\n",
            "Epoch 100/100\n",
            "31/31 [==============================] - 0s 10ms/step - loss: 11.2679 - lr: 8.9125e-04\n"
          ]
        }
      ],
      "source": [
        "# Set the learning rate scheduler\n",
        "lr_schedule = tf.keras.callbacks.LearningRateScheduler(\n",
        "    lambda epoch: 1e-8 * 10**(epoch / 20))\n",
        "\n",
        "# Initialize the optimizer\n",
        "optimizer = tf.keras.optimizers.SGD(momentum=0.9)\n",
        "\n",
        "# Set the training parameters\n",
        "model_tune.compile(loss=tf.keras.losses.Huber(), optimizer=optimizer)\n",
        "\n",
        "# Train the model\n",
        "history = model_tune.fit(dataset, epochs=100, callbacks=[lr_schedule])"
      ]
    },
    {
      "cell_type": "code",
      "execution_count": 10,
      "metadata": {
        "id": "AkBsrsXMzoWR",
        "colab": {
          "base_uri": "https://localhost:8080/",
          "height": 405
        },
        "outputId": "f251851c-2af3-4691-b04c-25909095bd1f"
      },
      "outputs": [
        {
          "output_type": "execute_result",
          "data": {
            "text/plain": [
              "(1e-08, 0.001, 0.0, 30.0)"
            ]
          },
          "metadata": {},
          "execution_count": 10
        },
        {
          "output_type": "display_data",
          "data": {
            "text/plain": [
              "<Figure size 720x432 with 1 Axes>"
            ],
            "image/png": "[encoded data removed]"
          },
          "metadata": {
            "needs_background": "light"
          }
        }
      ],
      "source": [
        "# Define the learning rate array\n",
        "lrs = 1e-8 * (10 ** (np.arange(100) / 20))\n",
        "\n",
        "# Set the figure size\n",
        "plt.figure(figsize=(10, 6))\n",
        "\n",
        "# Set the grid\n",
        "plt.grid(True)\n",
        "\n",
        "# Plot the loss in log scale\n",
        "plt.semilogx(lrs, history.history[\"loss\"])\n",
        "\n",
        "# Increase the tickmarks size\n",
        "plt.tick_params('both', length=10, width=1, which='both')\n",
        "\n",
        "# Set the plot boundaries\n",
        "plt.axis([1e-8, 1e-3, 0, 30])"
      ]
    },
    {
      "cell_type": "markdown",
      "metadata": {
        "id": "i-lKNp4pq_w8"
      },
      "source": [
        "## Train the Model\n",
        "\n",
        "You can then proceed to train the model with your chosen learning rate. \n",
        "\n",
        "*Tip: When experimenting and you find yourself running different iterations of a model, you may want to use the [`clear_session()`](https://www.tensorflow.org/api_docs/python/tf/keras/backend/clear_session) method to declutter memory used by Keras. This is added in the first line below.*\n"
      ]
    },
    {
      "cell_type": "code",
      "execution_count": 11,
      "metadata": {
        "id": "4uh-97bpLZCA",
        "colab": {
          "base_uri": "https://localhost:8080/"
        },
        "outputId": "c3f50506-657a-4000-c481-d4d84a4fa10e"
      },
      "outputs": [
        {
          "output_type": "stream",
          "name": "stdout",
          "text": [
            "Epoch 1/100\n",
            "31/31 [==============================] - 6s 11ms/step - loss: 44.5358 - mae: 45.0324\n",
            "Epoch 2/100\n",
            "31/31 [==============================] - 0s 11ms/step - loss: 14.9232 - mae: 15.4183\n",
            "Epoch 3/100\n",
            "31/31 [==============================] - 0s 10ms/step - loss: 11.6033 - mae: 12.0926\n",
            "Epoch 4/100\n",
            "31/31 [==============================] - 0s 10ms/step - loss: 9.4798 - mae: 9.9661\n",
            "Epoch 5/100\n",
            "31/31 [==============================] - 0s 11ms/step - loss: 8.2615 - mae: 8.7418\n",
            "Epoch 6/100\n",
            "31/31 [==============================] - 0s 10ms/step - loss: 7.7620 - mae: 8.2443\n",
            "Epoch 7/100\n",
            "31/31 [==============================] - 0s 11ms/step - loss: 7.4040 - mae: 7.8844\n",
            "Epoch 8/100\n",
            "31/31 [==============================] - 0s 11ms/step - loss: 7.2515 - mae: 7.7327\n",
            "Epoch 9/100\n",
            "31/31 [==============================] - 0s 10ms/step - loss: 7.1398 - mae: 7.6230\n",
            "Epoch 10/100\n",
            "31/31 [==============================] - 0s 10ms/step - loss: 7.0190 - mae: 7.5008\n",
            "Epoch 11/100\n",
            "31/31 [==============================] - 0s 10ms/step - loss: 6.9143 - mae: 7.3966\n",
            "Epoch 12/100\n",
            "31/31 [==============================] - 0s 11ms/step - loss: 6.8314 - mae: 7.3107\n",
            "Epoch 13/100\n",
            "31/31 [==============================] - 0s 11ms/step - loss: 6.7630 - mae: 7.2440\n",
            "Epoch 14/100\n",
            "31/31 [==============================] - 0s 10ms/step - loss: 6.7032 - mae: 7.1863\n",
            "Epoch 15/100\n",
            "31/31 [==============================] - 0s 10ms/step - loss: 6.6236 - mae: 7.1078\n",
            "Epoch 16/100\n",
            "31/31 [==============================] - 0s 11ms/step - loss: 6.5482 - mae: 7.0281\n",
            "Epoch 17/100\n",
            "31/31 [==============================] - 0s 10ms/step - loss: 6.4816 - mae: 6.9602\n",
            "Epoch 18/100\n",
            "31/31 [==============================] - 0s 10ms/step - loss: 6.4351 - mae: 6.9155\n",
            "Epoch 19/100\n",
            "31/31 [==============================] - 0s 11ms/step - loss: 6.4158 - mae: 6.8980\n",
            "Epoch 20/100\n",
            "31/31 [==============================] - 0s 10ms/step - loss: 6.2863 - mae: 6.7667\n",
            "Epoch 21/100\n",
            "31/31 [==============================] - 0s 10ms/step - loss: 6.2841 - mae: 6.7617\n",
            "Epoch 22/100\n",
            "31/31 [==============================] - 0s 11ms/step - loss: 6.2189 - mae: 6.6966\n",
            "Epoch 23/100\n",
            "31/31 [==============================] - 0s 10ms/step - loss: 6.1876 - mae: 6.6673\n",
            "Epoch 24/100\n",
            "31/31 [==============================] - 0s 11ms/step - loss: 6.1457 - mae: 6.6229\n",
            "Epoch 25/100\n",
            "31/31 [==============================] - 0s 11ms/step - loss: 6.0979 - mae: 6.5787\n",
            "Epoch 26/100\n",
            "31/31 [==============================] - 0s 11ms/step - loss: 6.0739 - mae: 6.5530\n",
            "Epoch 27/100\n",
            "31/31 [==============================] - 0s 11ms/step - loss: 6.0108 - mae: 6.4912\n",
            "Epoch 28/100\n",
            "31/31 [==============================] - 0s 10ms/step - loss: 5.9824 - mae: 6.4593\n",
            "Epoch 29/100\n",
            "31/31 [==============================] - 0s 10ms/step - loss: 5.9520 - mae: 6.4296\n",
            "Epoch 30/100\n",
            "31/31 [==============================] - 0s 10ms/step - loss: 5.9041 - mae: 6.3798\n",
            "Epoch 31/100\n",
            "31/31 [==============================] - 0s 10ms/step - loss: 5.8652 - mae: 6.3438\n",
            "Epoch 32/100\n",
            "31/31 [==============================] - 0s 10ms/step - loss: 5.8985 - mae: 6.3779\n",
            "Epoch 33/100\n",
            "31/31 [==============================] - 0s 10ms/step - loss: 5.8674 - mae: 6.3440\n",
            "Epoch 34/100\n",
            "31/31 [==============================] - 0s 10ms/step - loss: 5.8323 - mae: 6.3088\n",
            "Epoch 35/100\n",
            "31/31 [==============================] - 0s 10ms/step - loss: 5.8317 - mae: 6.3092\n",
            "Epoch 36/100\n",
            "31/31 [==============================] - 0s 9ms/step - loss: 5.7434 - mae: 6.2187\n",
            "Epoch 37/100\n",
            "31/31 [==============================] - 0s 10ms/step - loss: 5.7198 - mae: 6.1985\n",
            "Epoch 38/100\n",
            "31/31 [==============================] - 0s 10ms/step - loss: 5.6775 - mae: 6.1540\n",
            "Epoch 39/100\n",
            "31/31 [==============================] - 0s 10ms/step - loss: 5.7004 - mae: 6.1789\n",
            "Epoch 40/100\n",
            "31/31 [==============================] - 0s 10ms/step - loss: 5.6380 - mae: 6.1118\n",
            "Epoch 41/100\n",
            "31/31 [==============================] - 0s 10ms/step - loss: 5.6156 - mae: 6.0911\n",
            "Epoch 42/100\n",
            "31/31 [==============================] - 0s 10ms/step - loss: 5.5993 - mae: 6.0749\n",
            "Epoch 43/100\n",
            "31/31 [==============================] - 0s 10ms/step - loss: 5.5611 - mae: 6.0327\n",
            "Epoch 44/100\n",
            "31/31 [==============================] - 0s 10ms/step - loss: 5.6252 - mae: 6.1007\n",
            "Epoch 45/100\n",
            "31/31 [==============================] - 0s 10ms/step - loss: 5.5513 - mae: 6.0272\n",
            "Epoch 46/100\n",
            "31/31 [==============================] - 0s 10ms/step - loss: 5.5688 - mae: 6.0427\n",
            "Epoch 47/100\n",
            "31/31 [==============================] - 0s 10ms/step - loss: 5.4896 - mae: 5.9627\n",
            "Epoch 48/100\n",
            "31/31 [==============================] - 0s 10ms/step - loss: 5.5483 - mae: 6.0230\n",
            "Epoch 49/100\n",
            "31/31 [==============================] - 0s 10ms/step - loss: 5.6217 - mae: 6.0959\n",
            "Epoch 50/100\n",
            "31/31 [==============================] - 0s 10ms/step - loss: 5.4930 - mae: 5.9673\n",
            "Epoch 51/100\n",
            "31/31 [==============================] - 0s 10ms/step - loss: 5.4384 - mae: 5.9151\n",
            "Epoch 52/100\n",
            "31/31 [==============================] - 0s 10ms/step - loss: 5.4315 - mae: 5.9098\n",
            "Epoch 53/100\n",
            "31/31 [==============================] - 0s 10ms/step - loss: 5.4094 - mae: 5.8863\n",
            "Epoch 54/100\n",
            "31/31 [==============================] - 0s 10ms/step - loss: 5.4379 - mae: 5.9109\n",
            "Epoch 55/100\n",
            "31/31 [==============================] - 0s 10ms/step - loss: 5.4502 - mae: 5.9265\n",
            "Epoch 56/100\n",
            "31/31 [==============================] - 0s 10ms/step - loss: 5.3543 - mae: 5.8307\n",
            "Epoch 57/100\n",
            "31/31 [==============================] - 0s 10ms/step - loss: 5.3485 - mae: 5.8239\n",
            "Epoch 58/100\n",
            "31/31 [==============================] - 0s 10ms/step - loss: 5.3384 - mae: 5.8116\n",
            "Epoch 59/100\n",
            "31/31 [==============================] - 0s 10ms/step - loss: 5.3152 - mae: 5.7921\n",
            "Epoch 60/100\n",
            "31/31 [==============================] - 0s 10ms/step - loss: 5.3338 - mae: 5.8108\n",
            "Epoch 61/100\n",
            "31/31 [==============================] - 0s 10ms/step - loss: 5.3137 - mae: 5.7894\n",
            "Epoch 62/100\n",
            "31/31 [==============================] - 0s 10ms/step - loss: 5.2839 - mae: 5.7584\n",
            "Epoch 63/100\n",
            "31/31 [==============================] - 0s 10ms/step - loss: 5.2911 - mae: 5.7687\n",
            "Epoch 64/100\n",
            "31/31 [==============================] - 0s 10ms/step - loss: 5.2330 - mae: 5.7089\n",
            "Epoch 65/100\n",
            "31/31 [==============================] - 0s 10ms/step - loss: 5.2836 - mae: 5.7580\n",
            "Epoch 66/100\n",
            "31/31 [==============================] - 1s 10ms/step - loss: 5.3186 - mae: 5.7945\n",
            "Epoch 67/100\n",
            "31/31 [==============================] - 1s 18ms/step - loss: 5.2066 - mae: 5.6804\n",
            "Epoch 68/100\n",
            "31/31 [==============================] - 1s 10ms/step - loss: 5.2315 - mae: 5.7108\n",
            "Epoch 69/100\n",
            "31/31 [==============================] - 1s 17ms/step - loss: 5.1867 - mae: 5.6624\n",
            "Epoch 70/100\n",
            "31/31 [==============================] - 0s 10ms/step - loss: 5.1863 - mae: 5.6619\n",
            "Epoch 71/100\n",
            "31/31 [==============================] - 0s 10ms/step - loss: 5.1572 - mae: 5.6309\n",
            "Epoch 72/100\n",
            "31/31 [==============================] - 0s 10ms/step - loss: 5.1908 - mae: 5.6648\n",
            "Epoch 73/100\n",
            "31/31 [==============================] - 0s 10ms/step - loss: 5.1308 - mae: 5.6084\n",
            "Epoch 74/100\n",
            "31/31 [==============================] - 0s 10ms/step - loss: 5.1141 - mae: 5.5909\n",
            "Epoch 75/100\n",
            "31/31 [==============================] - 0s 10ms/step - loss: 5.0972 - mae: 5.5738\n",
            "Epoch 76/100\n",
            "31/31 [==============================] - 0s 10ms/step - loss: 5.0993 - mae: 5.5762\n",
            "Epoch 77/100\n",
            "31/31 [==============================] - 0s 10ms/step - loss: 5.1606 - mae: 5.6351\n",
            "Epoch 78/100\n",
            "31/31 [==============================] - 0s 10ms/step - loss: 5.1162 - mae: 5.5889\n",
            "Epoch 79/100\n",
            "31/31 [==============================] - 0s 10ms/step - loss: 5.0671 - mae: 5.5455\n",
            "Epoch 80/100\n",
            "31/31 [==============================] - 0s 10ms/step - loss: 5.0409 - mae: 5.5148\n",
            "Epoch 81/100\n",
            "31/31 [==============================] - 0s 10ms/step - loss: 5.0825 - mae: 5.5576\n",
            "Epoch 82/100\n",
            "31/31 [==============================] - 0s 10ms/step - loss: 5.0517 - mae: 5.5280\n",
            "Epoch 83/100\n",
            "31/31 [==============================] - 0s 10ms/step - loss: 5.0179 - mae: 5.4938\n",
            "Epoch 84/100\n",
            "31/31 [==============================] - 0s 10ms/step - loss: 5.0082 - mae: 5.4852\n",
            "Epoch 85/100\n",
            "31/31 [==============================] - 0s 10ms/step - loss: 5.0021 - mae: 5.4791\n",
            "Epoch 86/100\n",
            "31/31 [==============================] - 0s 10ms/step - loss: 4.9861 - mae: 5.4620\n",
            "Epoch 87/100\n",
            "31/31 [==============================] - 0s 10ms/step - loss: 4.9744 - mae: 5.4492\n",
            "Epoch 88/100\n",
            "31/31 [==============================] - 0s 10ms/step - loss: 4.9912 - mae: 5.4676\n",
            "Epoch 89/100\n",
            "31/31 [==============================] - 0s 10ms/step - loss: 4.9724 - mae: 5.4506\n",
            "Epoch 90/100\n",
            "31/31 [==============================] - 0s 10ms/step - loss: 4.9898 - mae: 5.4633\n",
            "Epoch 91/100\n",
            "31/31 [==============================] - 0s 10ms/step - loss: 4.9161 - mae: 5.3913\n",
            "Epoch 92/100\n",
            "31/31 [==============================] - 0s 10ms/step - loss: 4.9492 - mae: 5.4266\n",
            "Epoch 93/100\n",
            "31/31 [==============================] - 0s 10ms/step - loss: 4.9442 - mae: 5.4183\n",
            "Epoch 94/100\n",
            "31/31 [==============================] - 0s 10ms/step - loss: 4.9683 - mae: 5.4421\n",
            "Epoch 95/100\n",
            "31/31 [==============================] - 0s 10ms/step - loss: 4.8963 - mae: 5.3741\n",
            "Epoch 96/100\n",
            "31/31 [==============================] - 0s 10ms/step - loss: 4.9247 - mae: 5.4008\n",
            "Epoch 97/100\n",
            "31/31 [==============================] - 0s 10ms/step - loss: 4.9307 - mae: 5.4108\n",
            "Epoch 98/100\n",
            "31/31 [==============================] - 0s 10ms/step - loss: 4.8666 - mae: 5.3412\n",
            "Epoch 99/100\n",
            "31/31 [==============================] - 0s 10ms/step - loss: 4.9006 - mae: 5.3771\n",
            "Epoch 100/100\n",
            "31/31 [==============================] - 0s 10ms/step - loss: 4.8369 - mae: 5.3118\n"
          ]
        }
      ],
      "source": [
        "# Reset states generated by Keras\n",
        "tf.keras.backend.clear_session()\n",
        "\n",
        "# Build the model\n",
        "model = tf.keras.models.Sequential([\n",
        "  tf.keras.layers.Lambda(lambda x: tf.expand_dims(x, axis=-1),\n",
        "                      input_shape=[None]),\n",
        "   tf.keras.layers.Bidirectional(tf.keras.layers.LSTM(32, return_sequences=True)),\n",
        "  tf.keras.layers.Bidirectional(tf.keras.layers.LSTM(32)),\n",
        "  tf.keras.layers.Dense(1),\n",
        "  tf.keras.layers.Lambda(lambda x: x * 100.0)\n",
        "])\n",
        "\n",
        "# Set the learning rate\n",
        "learning_rate = 2e-6\n",
        "\n",
        "# Set the optimizer \n",
        "optimizer = tf.keras.optimizers.SGD(learning_rate=learning_rate, momentum=0.9)\n",
        "\n",
        "# Set the training parameters\n",
        "model.compile(loss=tf.keras.losses.Huber(),\n",
        "              optimizer=optimizer,\n",
        "              metrics=[\"mae\"])\n",
        "\n",
        "# Train the model\n",
        "history = model.fit(dataset,epochs=100)"
      ]
    },
    {
      "cell_type": "markdown",
      "metadata": {
        "id": "RjP4kbGiI7cw"
      },
      "source": [
        "## Model Prediction\n",
        "\n",
        "You will then generate batches of windows to generate predictions that align with the validation set."
      ]
    },
    {
      "cell_type": "code",
      "execution_count": 12,
      "metadata": {
        "id": "QO8cfKwKBBG6"
      },
      "outputs": [],
      "source": [
        "def model_forecast(model, series, window_size, batch_size):\n",
        "    \"\"\"Uses an input model to generate predictions on data windows\n",
        "\n",
        "    Args:\n",
        "      model (TF Keras Model) - model that accepts data windows\n",
        "      series (array of float) - contains the values of the time series\n",
        "      window_size (int) - the number of time steps to include in the window\n",
        "      batch_size (int) - the batch size\n",
        "\n",
        "    Returns:\n",
        "      forecast (numpy array) - array containing predictions\n",
        "    \"\"\"\n",
        "\n",
        "    # Generate a TF Dataset from the series values\n",
        "    dataset = tf.data.Dataset.from_tensor_slices(series)\n",
        "\n",
        "    # Window the data but only take those with the specified size\n",
        "    dataset = dataset.window(window_size, shift=1, drop_remainder=True)\n",
        "\n",
        "    # Flatten the windows by putting its elements in a single batch\n",
        "    dataset = dataset.flat_map(lambda w: w.batch(window_size))\n",
        "    \n",
        "    # Create batches of windows\n",
        "    dataset = dataset.batch(batch_size).prefetch(1)\n",
        "    \n",
        "    # Get predictions on the entire dataset\n",
        "    forecast = model.predict(dataset)\n",
        "    \n",
        "    return forecast"
      ]
    },
    {
      "cell_type": "code",
      "execution_count": 13,
      "metadata": {
        "id": "_plB3UseBD8o",
        "colab": {
          "base_uri": "https://localhost:8080/",
          "height": 388
        },
        "outputId": "0ff2895d-9c6f-49d0-8bae-5e6732f3a6ea"
      },
      "outputs": [
        {
          "output_type": "display_data",
          "data": {
            "text/plain": [
              "<Figure size 720x432 with 1 Axes>"
            ],
            "image/png": "[encoded data removed]"
          },
          "metadata": {
            "needs_background": "light"
          }
        }
      ],
      "source": [
        "# Reduce the original series\n",
        "forecast_series = series[split_time-window_size:-1]\n",
        "\n",
        "# Use helper function to generate predictions\n",
        "forecast = model_forecast(model, forecast_series, window_size, batch_size)\n",
        "\n",
        "# Drop single dimensional axis\n",
        "results = forecast.squeeze()\n",
        "\n",
        "# Plot the results\n",
        "plot_series(time_valid, (x_valid, results))"
      ]
    },
    {
      "cell_type": "markdown",
      "metadata": {
        "id": "Nn8iSQkZtaRC"
      },
      "source": [
        "You can then generate the metrics to evaluate the model's performance."
      ]
    },
    {
      "cell_type": "code",
      "execution_count": 14,
      "metadata": {
        "id": "-IKhueZaBGID",
        "colab": {
          "base_uri": "https://localhost:8080/"
        },
        "outputId": "01ebb6d6-9c0e-452b-f860-7ca58a8e3efd"
      },
      "outputs": [
        {
          "output_type": "stream",
          "name": "stdout",
          "text": [
            "87.11457\n",
            "6.589773\n"
          ]
        }
      ],
      "source": [
        "# Compute the MSE and MAE\n",
        "print(tf.keras.metrics.mean_squared_error(x_valid, results).numpy())\n",
        "print(tf.keras.metrics.mean_absolute_error(x_valid, results).numpy())"
      ]
    },
    {
      "cell_type": "markdown",
      "metadata": {
        "id": "bzPIqeMWvbPy"
      },
      "source": [
        "## Wrap Up\n",
        "\n",
        "This concludes this short exercise on using LSTMs for time series forecasting. Next week, you will build upon this and add convolutions. Then, you will start to move away from synthetic data and use real-world datasets. See you there!"
      ]
    },
    {
      "cell_type": "markdown",
      "metadata": {
        "id": "U5PqTePGHeMH"
      },
      "source": [
        "## Optional: Including a Validation Set while Training\n",
        "\n",
        "Back in the first course of this specialization, you saw how you can also monitor the performance of your model against a validation set while training. You can also do that for this lab. \n",
        "\n",
        "First, you need to generate a `val_set` which are data windows and labels that your model can accept. You can simply reuse the `windowed_dataset` function for that and you can pass in the `x_valid` points to generate the windows."
      ]
    },
    {
      "cell_type": "code",
      "execution_count": 15,
      "metadata": {
        "id": "kvFVwL3PC4iX"
      },
      "outputs": [],
      "source": [
        "# Generate data windows of the validation set\n",
        "val_set = windowed_dataset(x_valid, window_size, batch_size, shuffle_buffer_size)"
      ]
    },
    {
      "cell_type": "markdown",
      "metadata": {
        "id": "p68j6XxEvP9K"
      },
      "source": [
        "You can then do the same training as before but pass in the `val_set` to the `validation_data` parameter of the `fit()` method."
      ]
    },
    {
      "cell_type": "code",
      "execution_count": 16,
      "metadata": {
        "id": "wujKz6tXDSn0",
        "colab": {
          "base_uri": "https://localhost:8080/"
        },
        "outputId": "7f7f19b3-b5f0-43ea-edb5-11f11f9a33aa"
      },
      "outputs": [
        {
          "output_type": "stream",
          "name": "stdout",
          "text": [
            "Epoch 1/100\n",
            "31/31 [==============================] - 7s 56ms/step - loss: 24.0140 - mae: 24.5096 - val_loss: 29.5100 - val_mae: 30.0081\n",
            "Epoch 2/100\n",
            "31/31 [==============================] - 1s 13ms/step - loss: 9.5481 - mae: 10.0348 - val_loss: 20.5646 - val_mae: 21.0628\n",
            "Epoch 3/100\n",
            "31/31 [==============================] - 1s 14ms/step - loss: 6.8244 - mae: 7.3073 - val_loss: 16.2369 - val_mae: 16.7324\n",
            "Epoch 4/100\n",
            "31/31 [==============================] - 0s 13ms/step - loss: 6.1668 - mae: 6.6465 - val_loss: 13.3405 - val_mae: 13.8342\n",
            "Epoch 5/100\n",
            "31/31 [==============================] - 1s 14ms/step - loss: 5.9428 - mae: 6.4197 - val_loss: 12.4861 - val_mae: 12.9799\n",
            "Epoch 6/100\n",
            "31/31 [==============================] - 1s 14ms/step - loss: 5.7979 - mae: 6.2779 - val_loss: 11.4563 - val_mae: 11.9461\n",
            "Epoch 7/100\n",
            "31/31 [==============================] - 1s 14ms/step - loss: 5.7614 - mae: 6.2414 - val_loss: 10.9352 - val_mae: 11.4241\n",
            "Epoch 8/100\n",
            "31/31 [==============================] - 1s 14ms/step - loss: 5.6242 - mae: 6.1002 - val_loss: 11.2009 - val_mae: 11.6952\n",
            "Epoch 9/100\n",
            "31/31 [==============================] - 1s 14ms/step - loss: 5.5727 - mae: 6.0521 - val_loss: 9.4940 - val_mae: 9.9837\n",
            "Epoch 10/100\n",
            "31/31 [==============================] - 1s 14ms/step - loss: 5.4781 - mae: 5.9591 - val_loss: 9.8964 - val_mae: 10.3854\n",
            "Epoch 11/100\n",
            "31/31 [==============================] - 1s 14ms/step - loss: 5.4339 - mae: 5.9155 - val_loss: 9.5417 - val_mae: 10.0318\n",
            "Epoch 12/100\n",
            "31/31 [==============================] - 1s 14ms/step - loss: 5.3524 - mae: 5.8302 - val_loss: 10.0908 - val_mae: 10.5823\n",
            "Epoch 13/100\n",
            "31/31 [==============================] - 1s 14ms/step - loss: 5.2984 - mae: 5.7780 - val_loss: 8.4383 - val_mae: 8.9262\n",
            "Epoch 14/100\n",
            "31/31 [==============================] - 1s 14ms/step - loss: 5.2526 - mae: 5.7318 - val_loss: 8.6220 - val_mae: 9.1070\n",
            "Epoch 15/100\n",
            "31/31 [==============================] - 1s 14ms/step - loss: 5.2626 - mae: 5.7405 - val_loss: 8.9218 - val_mae: 9.4076\n",
            "Epoch 16/100\n",
            "31/31 [==============================] - 1s 14ms/step - loss: 5.2122 - mae: 5.6936 - val_loss: 7.8982 - val_mae: 8.3863\n",
            "Epoch 17/100\n",
            "31/31 [==============================] - 1s 14ms/step - loss: 5.2048 - mae: 5.6864 - val_loss: 8.0151 - val_mae: 8.5006\n",
            "Epoch 18/100\n",
            "31/31 [==============================] - 1s 14ms/step - loss: 5.1233 - mae: 5.5972 - val_loss: 7.6592 - val_mae: 8.1467\n",
            "Epoch 19/100\n",
            "31/31 [==============================] - 1s 14ms/step - loss: 5.0873 - mae: 5.5617 - val_loss: 7.3923 - val_mae: 7.8801\n",
            "Epoch 20/100\n",
            "31/31 [==============================] - 1s 14ms/step - loss: 5.1006 - mae: 5.5780 - val_loss: 7.1943 - val_mae: 7.6787\n",
            "Epoch 21/100\n",
            "31/31 [==============================] - 1s 14ms/step - loss: 5.0420 - mae: 5.5185 - val_loss: 7.2761 - val_mae: 7.7631\n",
            "Epoch 22/100\n",
            "31/31 [==============================] - 1s 15ms/step - loss: 5.0362 - mae: 5.5129 - val_loss: 7.0209 - val_mae: 7.5080\n",
            "Epoch 23/100\n",
            "31/31 [==============================] - 1s 14ms/step - loss: 5.0059 - mae: 5.4824 - val_loss: 7.2314 - val_mae: 7.7129\n",
            "Epoch 24/100\n",
            "31/31 [==============================] - 1s 14ms/step - loss: 4.9976 - mae: 5.4739 - val_loss: 7.5945 - val_mae: 8.0777\n",
            "Epoch 25/100\n",
            "31/31 [==============================] - 1s 14ms/step - loss: 4.9533 - mae: 5.4313 - val_loss: 7.1611 - val_mae: 7.6418\n",
            "Epoch 26/100\n",
            "31/31 [==============================] - 1s 14ms/step - loss: 4.9615 - mae: 5.4356 - val_loss: 6.8388 - val_mae: 7.3255\n",
            "Epoch 27/100\n",
            "31/31 [==============================] - 1s 14ms/step - loss: 4.9799 - mae: 5.4581 - val_loss: 6.5772 - val_mae: 7.0623\n",
            "Epoch 28/100\n",
            "31/31 [==============================] - 1s 14ms/step - loss: 4.9124 - mae: 5.3889 - val_loss: 6.6930 - val_mae: 7.1811\n",
            "Epoch 29/100\n",
            "31/31 [==============================] - 1s 15ms/step - loss: 4.9391 - mae: 5.4186 - val_loss: 6.6166 - val_mae: 7.1054\n",
            "Epoch 30/100\n",
            "31/31 [==============================] - 1s 14ms/step - loss: 4.9356 - mae: 5.4117 - val_loss: 6.7837 - val_mae: 7.2614\n",
            "Epoch 31/100\n",
            "31/31 [==============================] - 1s 14ms/step - loss: 4.9871 - mae: 5.4617 - val_loss: 6.6688 - val_mae: 7.1522\n",
            "Epoch 32/100\n",
            "31/31 [==============================] - 1s 14ms/step - loss: 4.8832 - mae: 5.3575 - val_loss: 6.8641 - val_mae: 7.3448\n",
            "Epoch 33/100\n",
            "31/31 [==============================] - 1s 14ms/step - loss: 4.8943 - mae: 5.3706 - val_loss: 6.3223 - val_mae: 6.8086\n",
            "Epoch 34/100\n",
            "31/31 [==============================] - 1s 13ms/step - loss: 4.8678 - mae: 5.3441 - val_loss: 6.4261 - val_mae: 6.9101\n",
            "Epoch 35/100\n",
            "31/31 [==============================] - 1s 14ms/step - loss: 4.8877 - mae: 5.3613 - val_loss: 6.5715 - val_mae: 7.0502\n",
            "Epoch 36/100\n",
            "31/31 [==============================] - 1s 14ms/step - loss: 4.8203 - mae: 5.2958 - val_loss: 6.9357 - val_mae: 7.4172\n",
            "Epoch 37/100\n",
            "31/31 [==============================] - 1s 14ms/step - loss: 4.8124 - mae: 5.2885 - val_loss: 6.6313 - val_mae: 7.1120\n",
            "Epoch 38/100\n",
            "31/31 [==============================] - 1s 14ms/step - loss: 4.8045 - mae: 5.2845 - val_loss: 6.0169 - val_mae: 6.4956\n",
            "Epoch 39/100\n",
            "31/31 [==============================] - 1s 14ms/step - loss: 4.8955 - mae: 5.3703 - val_loss: 5.9929 - val_mae: 6.4698\n",
            "Epoch 40/100\n",
            "31/31 [==============================] - 1s 14ms/step - loss: 4.8551 - mae: 5.3306 - val_loss: 6.0197 - val_mae: 6.4997\n",
            "Epoch 41/100\n",
            "31/31 [==============================] - 1s 14ms/step - loss: 4.9814 - mae: 5.4593 - val_loss: 6.1105 - val_mae: 6.6015\n",
            "Epoch 42/100\n",
            "31/31 [==============================] - 1s 14ms/step - loss: 4.8301 - mae: 5.3091 - val_loss: 6.4916 - val_mae: 6.9710\n",
            "Epoch 43/100\n",
            "31/31 [==============================] - 1s 14ms/step - loss: 4.7512 - mae: 5.2281 - val_loss: 6.2669 - val_mae: 6.7443\n",
            "Epoch 44/100\n",
            "31/31 [==============================] - 1s 14ms/step - loss: 4.7697 - mae: 5.2476 - val_loss: 6.4291 - val_mae: 6.9084\n",
            "Epoch 45/100\n",
            "31/31 [==============================] - 1s 14ms/step - loss: 4.7978 - mae: 5.2713 - val_loss: 6.4824 - val_mae: 6.9619\n",
            "Epoch 46/100\n",
            "31/31 [==============================] - 1s 14ms/step - loss: 4.7875 - mae: 5.2623 - val_loss: 6.2334 - val_mae: 6.7122\n",
            "Epoch 47/100\n",
            "31/31 [==============================] - 1s 13ms/step - loss: 4.7429 - mae: 5.2171 - val_loss: 7.3121 - val_mae: 7.7945\n",
            "Epoch 48/100\n",
            "31/31 [==============================] - 1s 14ms/step - loss: 4.7636 - mae: 5.2382 - val_loss: 6.1823 - val_mae: 6.6614\n",
            "Epoch 49/100\n",
            "31/31 [==============================] - 1s 14ms/step - loss: 4.8208 - mae: 5.2958 - val_loss: 6.1986 - val_mae: 6.6777\n",
            "Epoch 50/100\n",
            "31/31 [==============================] - 1s 14ms/step - loss: 4.7391 - mae: 5.2135 - val_loss: 5.8555 - val_mae: 6.3405\n",
            "Epoch 51/100\n",
            "31/31 [==============================] - 1s 14ms/step - loss: 4.7081 - mae: 5.1833 - val_loss: 6.1901 - val_mae: 6.6694\n",
            "Epoch 52/100\n",
            "31/31 [==============================] - 1s 14ms/step - loss: 4.7224 - mae: 5.1982 - val_loss: 6.6616 - val_mae: 7.1428\n",
            "Epoch 53/100\n",
            "31/31 [==============================] - 1s 14ms/step - loss: 4.7007 - mae: 5.1766 - val_loss: 6.4551 - val_mae: 6.9332\n",
            "Epoch 54/100\n",
            "31/31 [==============================] - 1s 14ms/step - loss: 4.7035 - mae: 5.1819 - val_loss: 6.0443 - val_mae: 6.5247\n",
            "Epoch 55/100\n",
            "31/31 [==============================] - 1s 14ms/step - loss: 4.6780 - mae: 5.1510 - val_loss: 5.8893 - val_mae: 6.3763\n",
            "Epoch 56/100\n",
            "31/31 [==============================] - 1s 14ms/step - loss: 4.6680 - mae: 5.1416 - val_loss: 6.6697 - val_mae: 7.1508\n",
            "Epoch 57/100\n",
            "31/31 [==============================] - 1s 14ms/step - loss: 4.7403 - mae: 5.2169 - val_loss: 5.8988 - val_mae: 6.3855\n",
            "Epoch 58/100\n",
            "31/31 [==============================] - 1s 14ms/step - loss: 4.6510 - mae: 5.1199 - val_loss: 5.6259 - val_mae: 6.1045\n",
            "Epoch 59/100\n",
            "31/31 [==============================] - 1s 14ms/step - loss: 4.6479 - mae: 5.1233 - val_loss: 6.2308 - val_mae: 6.7123\n",
            "Epoch 60/100\n",
            "31/31 [==============================] - 1s 14ms/step - loss: 4.6845 - mae: 5.1623 - val_loss: 6.6637 - val_mae: 7.1457\n",
            "Epoch 61/100\n",
            "31/31 [==============================] - 1s 14ms/step - loss: 4.7549 - mae: 5.2252 - val_loss: 6.8774 - val_mae: 7.3623\n",
            "Epoch 62/100\n",
            "31/31 [==============================] - 1s 14ms/step - loss: 4.6311 - mae: 5.1025 - val_loss: 5.6226 - val_mae: 6.1038\n",
            "Epoch 63/100\n",
            "31/31 [==============================] - 1s 14ms/step - loss: 4.6721 - mae: 5.1484 - val_loss: 6.0396 - val_mae: 6.5228\n",
            "Epoch 64/100\n",
            "31/31 [==============================] - 1s 14ms/step - loss: 4.8212 - mae: 5.2955 - val_loss: 6.5173 - val_mae: 6.9960\n",
            "Epoch 65/100\n",
            "31/31 [==============================] - 1s 14ms/step - loss: 4.6771 - mae: 5.1523 - val_loss: 6.2649 - val_mae: 6.7434\n",
            "Epoch 66/100\n",
            "31/31 [==============================] - 1s 14ms/step - loss: 4.6372 - mae: 5.1147 - val_loss: 6.5295 - val_mae: 7.0110\n",
            "Epoch 67/100\n",
            "31/31 [==============================] - 1s 14ms/step - loss: 4.6121 - mae: 5.0881 - val_loss: 5.4849 - val_mae: 5.9615\n",
            "Epoch 68/100\n",
            "31/31 [==============================] - 1s 14ms/step - loss: 4.6740 - mae: 5.1482 - val_loss: 5.7009 - val_mae: 6.1843\n",
            "Epoch 69/100\n",
            "31/31 [==============================] - 1s 14ms/step - loss: 4.6451 - mae: 5.1215 - val_loss: 5.8604 - val_mae: 6.3444\n",
            "Epoch 70/100\n",
            "31/31 [==============================] - 1s 14ms/step - loss: 4.6694 - mae: 5.1463 - val_loss: 6.4696 - val_mae: 6.9501\n",
            "Epoch 71/100\n",
            "31/31 [==============================] - 1s 14ms/step - loss: 4.6416 - mae: 5.1165 - val_loss: 6.2876 - val_mae: 6.7647\n",
            "Epoch 72/100\n",
            "31/31 [==============================] - 1s 14ms/step - loss: 4.6600 - mae: 5.1337 - val_loss: 5.5613 - val_mae: 6.0443\n",
            "Epoch 73/100\n",
            "31/31 [==============================] - 1s 14ms/step - loss: 4.7624 - mae: 5.2392 - val_loss: 5.9034 - val_mae: 6.3868\n",
            "Epoch 74/100\n",
            "31/31 [==============================] - 1s 14ms/step - loss: 4.6961 - mae: 5.1701 - val_loss: 6.3066 - val_mae: 6.7826\n",
            "Epoch 75/100\n",
            "31/31 [==============================] - 1s 14ms/step - loss: 4.6364 - mae: 5.1163 - val_loss: 7.0587 - val_mae: 7.5426\n",
            "Epoch 76/100\n",
            "31/31 [==============================] - 1s 14ms/step - loss: 4.6303 - mae: 5.1064 - val_loss: 5.6273 - val_mae: 6.1080\n",
            "Epoch 77/100\n",
            "31/31 [==============================] - 1s 14ms/step - loss: 4.6494 - mae: 5.1264 - val_loss: 5.6898 - val_mae: 6.1726\n",
            "Epoch 78/100\n",
            "31/31 [==============================] - 1s 14ms/step - loss: 4.6745 - mae: 5.1542 - val_loss: 5.5116 - val_mae: 5.9958\n",
            "Epoch 79/100\n",
            "31/31 [==============================] - 1s 14ms/step - loss: 4.6342 - mae: 5.1072 - val_loss: 5.9443 - val_mae: 6.4291\n",
            "Epoch 80/100\n",
            "31/31 [==============================] - 1s 14ms/step - loss: 4.5984 - mae: 5.0738 - val_loss: 5.6938 - val_mae: 6.1737\n",
            "Epoch 81/100\n",
            "31/31 [==============================] - 1s 14ms/step - loss: 4.6675 - mae: 5.1456 - val_loss: 6.1451 - val_mae: 6.6263\n",
            "Epoch 82/100\n",
            "31/31 [==============================] - 1s 14ms/step - loss: 4.7061 - mae: 5.1835 - val_loss: 5.4445 - val_mae: 5.9217\n",
            "Epoch 83/100\n",
            "31/31 [==============================] - 1s 14ms/step - loss: 4.6015 - mae: 5.0817 - val_loss: 5.5747 - val_mae: 6.0553\n",
            "Epoch 84/100\n",
            "31/31 [==============================] - 1s 14ms/step - loss: 4.6170 - mae: 5.0982 - val_loss: 6.1561 - val_mae: 6.6360\n",
            "Epoch 85/100\n",
            "31/31 [==============================] - 1s 14ms/step - loss: 4.6652 - mae: 5.1370 - val_loss: 6.0688 - val_mae: 6.5501\n",
            "Epoch 86/100\n",
            "31/31 [==============================] - 1s 14ms/step - loss: 4.6191 - mae: 5.0959 - val_loss: 5.8986 - val_mae: 6.3821\n",
            "Epoch 87/100\n",
            "31/31 [==============================] - 1s 14ms/step - loss: 4.5835 - mae: 5.0619 - val_loss: 5.8051 - val_mae: 6.2896\n",
            "Epoch 88/100\n",
            "31/31 [==============================] - 1s 14ms/step - loss: 4.5845 - mae: 5.0615 - val_loss: 6.2124 - val_mae: 6.6920\n",
            "Epoch 89/100\n",
            "31/31 [==============================] - 1s 14ms/step - loss: 4.6327 - mae: 5.1046 - val_loss: 6.1270 - val_mae: 6.6053\n",
            "Epoch 90/100\n",
            "31/31 [==============================] - 1s 15ms/step - loss: 4.5253 - mae: 5.0040 - val_loss: 5.3980 - val_mae: 5.8795\n",
            "Epoch 91/100\n",
            "31/31 [==============================] - 1s 15ms/step - loss: 4.5415 - mae: 5.0186 - val_loss: 6.0399 - val_mae: 6.5210\n",
            "Epoch 92/100\n",
            "31/31 [==============================] - 1s 14ms/step - loss: 4.5296 - mae: 5.0061 - val_loss: 6.0273 - val_mae: 6.5071\n",
            "Epoch 93/100\n",
            "31/31 [==============================] - 1s 14ms/step - loss: 4.6457 - mae: 5.1170 - val_loss: 6.5058 - val_mae: 6.9874\n",
            "Epoch 94/100\n",
            "31/31 [==============================] - 1s 14ms/step - loss: 4.5802 - mae: 5.0567 - val_loss: 5.7460 - val_mae: 6.2300\n",
            "Epoch 95/100\n",
            "31/31 [==============================] - 1s 14ms/step - loss: 4.5231 - mae: 4.9993 - val_loss: 5.3164 - val_mae: 5.7927\n",
            "Epoch 96/100\n",
            "31/31 [==============================] - 1s 14ms/step - loss: 4.5274 - mae: 5.0025 - val_loss: 5.5053 - val_mae: 5.9841\n",
            "Epoch 97/100\n",
            "31/31 [==============================] - 1s 14ms/step - loss: 4.5439 - mae: 5.0166 - val_loss: 5.5624 - val_mae: 6.0438\n",
            "Epoch 98/100\n",
            "31/31 [==============================] - 1s 14ms/step - loss: 4.7900 - mae: 5.2662 - val_loss: 6.2639 - val_mae: 6.7453\n",
            "Epoch 99/100\n",
            "31/31 [==============================] - 1s 14ms/step - loss: 4.6203 - mae: 5.0909 - val_loss: 5.6278 - val_mae: 6.1119\n",
            "Epoch 100/100\n",
            "31/31 [==============================] - 1s 14ms/step - loss: 4.5159 - mae: 4.9926 - val_loss: 5.3031 - val_mae: 5.7775\n"
          ]
        }
      ],
      "source": [
        "# Reset states generated by Keras\n",
        "tf.keras.backend.clear_session()\n",
        "\n",
        "# Build the model\n",
        "model = tf.keras.models.Sequential([\n",
        "  tf.keras.layers.Lambda(lambda x: tf.expand_dims(x, axis=-1),\n",
        "                      input_shape=[None]),\n",
        "   tf.keras.layers.Bidirectional(tf.keras.layers.LSTM(32, return_sequences=True)),\n",
        "  tf.keras.layers.Bidirectional(tf.keras.layers.LSTM(32)),\n",
        "  tf.keras.layers.Dense(1),\n",
        "  tf.keras.layers.Lambda(lambda x: x * 100.0)\n",
        "])\n",
        "\n",
        "# Set the learning rate\n",
        "learning_rate = 2e-6\n",
        "\n",
        "# Set the optimizer \n",
        "optimizer = tf.keras.optimizers.SGD(learning_rate=learning_rate, momentum=0.9)\n",
        "\n",
        "# Set the training parameters\n",
        "model.compile(loss=tf.keras.losses.Huber(),\n",
        "              optimizer=optimizer,\n",
        "              metrics=[\"mae\"])\n",
        "\n",
        "# Train the model\n",
        "history = model.fit(dataset,epochs=100, validation_data=val_set)"
      ]
    }
  ],
  "metadata": {
    "accelerator": "GPU",
    "colab": {
      "collapsed_sections": [],
      "name": "C4_W3_Lab_2_LSTM.ipynb",
      "provenance": []
    },
    "kernelspec": {
      "display_name": "Python 3",
      "language": "python",
      "name": "python3"
    },
    "language_info": {
      "codemirror_mode": {
        "name": "ipython",
        "version": 3
      },
      "file_extension": ".py",
      "mimetype": "text/x-python",
      "name": "python",
      "nbconvert_exporter": "python",
      "pygments_lexer": "ipython3",
      "version": "3.7.4"
    },
    "gpuClass": "standard"
  },
  "nbformat": 4,
  "nbformat_minor": 0
}