{
  "cells": [
    {
      "cell_type": "markdown",
      "metadata": {
        "id": "H1f0UtSzQ3ed"
      },
      "source": [
        "<a href=\"https://colab.research.google.com/github/https-deeplearning-ai/tensorflow-1-public/blob/main/C4/W2/ungraded_labs/C4_W2_Lab_3_deep_NN.ipynb\" target=\"_parent\"><img src=\"https://colab.research.google.com/assets/colab-badge.svg\" alt=\"Open In Colab\"/></a>"
      ]
    },
    {
      "cell_type": "markdown",
      "metadata": {
        "id": "dxFGlX1S53mg"
      },
      "source": [
        "# Ungraded Lab: Training a Deep Neural Network with Time Series Data\n",
        "\n",
        "In this lab, you will build upon the previous exercise and add more dense layers to your network. You will also look at a technique to tune the model's learning rate to make the weights converge faster. This is a useful tip so you can avoid guessing the learning rate before training.\n",
        "\n",
        "The initial steps will be identical to the previous lab so you can run the next cells until the `Build the Model` section. That's where the discussions begin."
      ]
    },
    {
      "cell_type": "markdown",
      "metadata": {
        "id": "w5S4XCUZ6GH7"
      },
      "source": [
        "## Imports"
      ]
    },
    {
      "cell_type": "code",
      "execution_count": 1,
      "metadata": {
        "id": "BOjujz601HcS"
      },
      "outputs": [],
      "source": [
        "import tensorflow as tf\n",
        "import numpy as np\n",
        "import matplotlib.pyplot as plt"
      ]
    },
    {
      "cell_type": "markdown",
      "metadata": {
        "id": "tjC8TSkp6IiH"
      },
      "source": [
        "## Utilities"
      ]
    },
    {
      "cell_type": "code",
      "execution_count": 2,
      "metadata": {
        "id": "Zswl7jRtGzkk"
      },
      "outputs": [],
      "source": [
        "def plot_series(time, series, format=\"-\", start=0, end=None):\n",
        "    \"\"\"\n",
        "    Visualizes time series data\n",
        "\n",
        "    Args:\n",
        "      time (array of int) - contains the time steps\n",
        "      series (array of int) - contains the measurements for each time step\n",
        "      format - line style when plotting the graph\n",
        "      label - tag for the line\n",
        "      start - first time step to plot\n",
        "      end - last time step to plot\n",
        "    \"\"\"\n",
        "\n",
        "    # Setup dimensions of the graph figure\n",
        "    plt.figure(figsize=(10, 6))\n",
        "    \n",
        "    if type(series) is tuple:\n",
        "\n",
        "      for series_num in series:\n",
        "        # Plot the time series data\n",
        "        plt.plot(time[start:end], series_num[start:end], format)\n",
        "\n",
        "    else:\n",
        "      # Plot the time series data\n",
        "      plt.plot(time[start:end], series[start:end], format)\n",
        "\n",
        "    # Label the x-axis\n",
        "    plt.xlabel(\"Time\")\n",
        "\n",
        "    # Label the y-axis\n",
        "    plt.ylabel(\"Value\")\n",
        "\n",
        "    # Overlay a grid on the graph\n",
        "    plt.grid(True)\n",
        "\n",
        "    # Draw the graph on screen\n",
        "    plt.show()\n",
        "\n",
        "def trend(time, slope=0):\n",
        "    \"\"\"\n",
        "    Generates synthetic data that follows a straight line given a slope value.\n",
        "\n",
        "    Args:\n",
        "      time (array of int) - contains the time steps\n",
        "      slope (float) - determines the direction and steepness of the line\n",
        "\n",
        "    Returns:\n",
        "      series (array of float) - measurements that follow a straight line\n",
        "    \"\"\"\n",
        "\n",
        "    # Compute the linear series given the slope\n",
        "    series = slope * time\n",
        "\n",
        "    return series\n",
        "\n",
        "def seasonal_pattern(season_time):\n",
        "    \"\"\"\n",
        "    Just an arbitrary pattern, you can change it if you wish\n",
        "    \n",
        "    Args:\n",
        "      season_time (array of float) - contains the measurements per time step\n",
        "\n",
        "    Returns:\n",
        "      data_pattern (array of float) -  contains revised measurement values according \n",
        "                                  to the defined pattern\n",
        "    \"\"\"\n",
        "\n",
        "    # Generate the values using an arbitrary pattern\n",
        "    data_pattern = np.where(season_time < 0.4,\n",
        "                    np.cos(season_time * 2 * np.pi),\n",
        "                    1 / np.exp(3 * season_time))\n",
        "    \n",
        "    return data_pattern\n",
        "\n",
        "def seasonality(time, period, amplitude=1, phase=0):\n",
        "    \"\"\"\n",
        "    Repeats the same pattern at each period\n",
        "\n",
        "    Args:\n",
        "      time (array of int) - contains the time steps\n",
        "      period (int) - number of time steps before the pattern repeats\n",
        "      amplitude (int) - peak measured value in a period\n",
        "      phase (int) - number of time steps to shift the measured values\n",
        "\n",
        "    Returns:\n",
        "      data_pattern (array of float) - seasonal data scaled by the defined amplitude\n",
        "    \"\"\"\n",
        "    \n",
        "    # Define the measured values per period\n",
        "    season_time = ((time + phase) % period) / period\n",
        "\n",
        "    # Generates the seasonal data scaled by the defined amplitude\n",
        "    data_pattern = amplitude * seasonal_pattern(season_time)\n",
        "\n",
        "    return data_pattern\n",
        "\n",
        "def noise(time, noise_level=1, seed=None):\n",
        "    \"\"\"Generates a normally distributed noisy signal\n",
        "\n",
        "    Args:\n",
        "      time (array of int) - contains the time steps\n",
        "      noise_level (float) - scaling factor for the generated signal\n",
        "      seed (int) - number generator seed for repeatability\n",
        "\n",
        "    Returns:\n",
        "      noise (array of float) - the noisy signal\n",
        "    \"\"\"\n",
        "\n",
        "    # Initialize the random number generator\n",
        "    rnd = np.random.RandomState(seed)\n",
        "\n",
        "    # Generate a random number for each time step and scale by the noise level\n",
        "    noise = rnd.randn(len(time)) * noise_level\n",
        "    \n",
        "    return noise"
      ]
    },
    {
      "cell_type": "markdown",
      "metadata": {
        "id": "Z1CL6Bh86TS1"
      },
      "source": [
        "## Generate the Synthetic Data"
      ]
    },
    {
      "cell_type": "code",
      "execution_count": 3,
      "metadata": {
        "id": "5MFtI3X1FErU",
        "colab": {
          "base_uri": "https://localhost:8080/",
          "height": 388
        },
        "outputId": "55d32f92-e893-4eb9-811a-5652110fc55d"
      },
      "outputs": [
        {
          "output_type": "display_data",
          "data": {
            "text/plain": [
              "<Figure size 720x432 with 1 Axes>"
            ],
            "image/png": "[encoded data removed]"
          },
          "metadata": {
            "needs_background": "light"
          }
        }
      ],
      "source": [
        "# Parameters\n",
        "time = np.arange(4 * 365 + 1, dtype=\"float32\")\n",
        "baseline = 10\n",
        "amplitude = 40\n",
        "slope = 0.05\n",
        "noise_level = 5\n",
        "\n",
        "# Create the series\n",
        "series = baseline + trend(time, slope) + seasonality(time, period=365, amplitude=amplitude)\n",
        "\n",
        "# Update with noise\n",
        "series += noise(time, noise_level, seed=42)\n",
        "\n",
        "# Plot the results\n",
        "plot_series(time, series)"
      ]
    },
    {
      "cell_type": "markdown",
      "metadata": {
        "id": "t2YvxWcI6lnB"
      },
      "source": [
        "## Split the Dataset"
      ]
    },
    {
      "cell_type": "code",
      "execution_count": 4,
      "metadata": {
        "id": "Db9kkYnOFKYr"
      },
      "outputs": [],
      "source": [
        "# Define the split time\n",
        "split_time = 1000\n",
        "\n",
        "# Get the train set \n",
        "time_train = time[:split_time]\n",
        "x_train = series[:split_time]\n",
        "\n",
        "# Get the validation set\n",
        "time_valid = time[split_time:]\n",
        "x_valid = series[split_time:]"
      ]
    },
    {
      "cell_type": "markdown",
      "metadata": {
        "id": "XH-0FgXN6zHA"
      },
      "source": [
        "## Prepare Features and Labels"
      ]
    },
    {
      "cell_type": "code",
      "execution_count": 5,
      "metadata": {
        "id": "AyBwNWO1FVTS"
      },
      "outputs": [],
      "source": [
        "# Parameters\n",
        "window_size = 20\n",
        "batch_size = 32\n",
        "shuffle_buffer_size = 1000"
      ]
    },
    {
      "cell_type": "code",
      "execution_count": 6,
      "metadata": {
        "id": "4sTTIOCbyShY"
      },
      "outputs": [],
      "source": [
        "def windowed_dataset(series, window_size, batch_size, shuffle_buffer):\n",
        "    \"\"\"Generates dataset windows\n",
        "\n",
        "    Args:\n",
        "      series (array of float) - contains the values of the time series\n",
        "      window_size (int) - the number of time steps to average\n",
        "      batch_size (int) - the batch size\n",
        "      shuffle_buffer(int) - buffer size to use for the shuffle method\n",
        "\n",
        "    Returns:\n",
        "      dataset (TF Dataset) - TF Dataset containing time windows\n",
        "    \"\"\"\n",
        "  \n",
        "    # Generate a TF Dataset from the series values\n",
        "    dataset = tf.data.Dataset.from_tensor_slices(series)\n",
        "    \n",
        "    # Window the data but only take those with the specified size\n",
        "    dataset = dataset.window(window_size + 1, shift=1, drop_remainder=True)\n",
        "    \n",
        "    # Flatten the windows by putting its elements in a single batch\n",
        "    dataset = dataset.flat_map(lambda window: window.batch(window_size + 1))\n",
        "\n",
        "    # Create tuples with features and labels \n",
        "    dataset = dataset.map(lambda window: (window[:-1], window[-1]))\n",
        "\n",
        "    # Shuffle the windows\n",
        "    dataset = dataset.shuffle(shuffle_buffer)\n",
        "    \n",
        "    # Create batches of windows\n",
        "    dataset = dataset.batch(batch_size).prefetch(1)\n",
        "    \n",
        "    return dataset"
      ]
    },
    {
      "cell_type": "code",
      "execution_count": 7,
      "metadata": {
        "id": "AdNN0s9qFnTg"
      },
      "outputs": [],
      "source": [
        "# Generate the dataset windows\n",
        "dataset = windowed_dataset(x_train, window_size, batch_size, shuffle_buffer_size)"
      ]
    },
    {
      "cell_type": "markdown",
      "metadata": {
        "id": "ths8EcjQ7CG3"
      },
      "source": [
        "## Build the Model\n",
        "\n",
        "You will use three dense layers in this exercise as shown below. As expected, the number of trainable parameters will increase and the model summary shows that it is more than tenfold of the previous lab."
      ]
    },
    {
      "cell_type": "code",
      "execution_count": 8,
      "metadata": {
        "id": "TW-vT7eLYAdb",
        "colab": {
          "base_uri": "https://localhost:8080/"
        },
        "outputId": "ec4d6315-bb33-4d91-8cd5-367ab0f1cd16"
      },
      "outputs": [
        {
          "output_type": "stream",
          "name": "stdout",
          "text": [
            "Model: \"sequential\"\n",
            "_________________________________________________________________\n",
            " Layer (type)                Output Shape              Param #   \n",
            "=================================================================\n",
            " dense (Dense)               (None, 10)                210       \n",
            "                                                                 \n",
            " dense_1 (Dense)             (None, 10)                110       \n",
            "                                                                 \n",
            " dense_2 (Dense)             (None, 1)                 11        \n",
            "                                                                 \n",
            "=================================================================\n",
            "Total params: 331\n",
            "Trainable params: 331\n",
            "Non-trainable params: 0\n",
            "_________________________________________________________________\n"
          ]
        }
      ],
      "source": [
        "# Build the model\n",
        "model_baseline = tf.keras.models.Sequential([\n",
        "    tf.keras.layers.Dense(10, input_shape=[window_size], activation=\"relu\"), \n",
        "    tf.keras.layers.Dense(10, activation=\"relu\"), \n",
        "    tf.keras.layers.Dense(1)\n",
        "])\n",
        "\n",
        "# Print the model summary\n",
        "model_baseline.summary()"
      ]
    },
    {
      "cell_type": "markdown",
      "metadata": {
        "id": "4xWDKTGR7XQd"
      },
      "source": [
        "## Train the Model\n",
        "\n",
        "You will then compile and train the model using the same settings as before. Observe how the loss is decreasing because you will revisit it later in this lab."
      ]
    },
    {
      "cell_type": "code",
      "execution_count": 9,
      "metadata": {
        "id": "unwiKhWn7nqS"
      },
      "outputs": [],
      "source": [
        "# Set the training parameters\n",
        "model_baseline.compile(loss=\"mse\", optimizer=tf.keras.optimizers.SGD(learning_rate=1e-6, momentum=0.9))"
      ]
    },
    {
      "cell_type": "code",
      "execution_count": 10,
      "metadata": {
        "id": "zqVlvuneFqJz",
        "colab": {
          "base_uri": "https://localhost:8080/"
        },
        "outputId": "5f54ffdf-df91-4fe7-9ccb-f02a77e88b01"
      },
      "outputs": [
        {
          "output_type": "stream",
          "name": "stdout",
          "text": [
            "Epoch 1/100\n",
            "31/31 [==============================] - 4s 24ms/step - loss: 1327.7201\n",
            "Epoch 2/100\n",
            "31/31 [==============================] - 0s 4ms/step - loss: 83.5749\n",
            "Epoch 3/100\n",
            "31/31 [==============================] - 0s 3ms/step - loss: 68.5028\n",
            "Epoch 4/100\n",
            "31/31 [==============================] - 0s 5ms/step - loss: 66.5008\n",
            "Epoch 5/100\n",
            "31/31 [==============================] - 0s 5ms/step - loss: 64.9819\n",
            "Epoch 6/100\n",
            "31/31 [==============================] - 0s 4ms/step - loss: 64.3184\n",
            "Epoch 7/100\n",
            "31/31 [==============================] - 0s 4ms/step - loss: 63.4633\n",
            "Epoch 8/100\n",
            "31/31 [==============================] - 0s 3ms/step - loss: 62.8833\n",
            "Epoch 9/100\n",
            "31/31 [==============================] - 0s 4ms/step - loss: 62.0838\n",
            "Epoch 10/100\n",
            "31/31 [==============================] - 0s 4ms/step - loss: 61.5256\n",
            "Epoch 11/100\n",
            "31/31 [==============================] - 0s 4ms/step - loss: 61.0037\n",
            "Epoch 12/100\n",
            "31/31 [==============================] - 0s 3ms/step - loss: 60.7589\n",
            "Epoch 13/100\n",
            "31/31 [==============================] - 0s 4ms/step - loss: 60.4206\n",
            "Epoch 14/100\n",
            "31/31 [==============================] - 0s 4ms/step - loss: 59.8519\n",
            "Epoch 15/100\n",
            "31/31 [==============================] - 0s 4ms/step - loss: 59.2613\n",
            "Epoch 16/100\n",
            "31/31 [==============================] - 0s 3ms/step - loss: 58.7878\n",
            "Epoch 17/100\n",
            "31/31 [==============================] - 0s 6ms/step - loss: 58.7186\n",
            "Epoch 18/100\n",
            "31/31 [==============================] - 0s 5ms/step - loss: 58.0977\n",
            "Epoch 19/100\n",
            "31/31 [==============================] - 0s 3ms/step - loss: 57.6427\n",
            "Epoch 20/100\n",
            "31/31 [==============================] - 0s 4ms/step - loss: 57.5002\n",
            "Epoch 21/100\n",
            "31/31 [==============================] - 0s 2ms/step - loss: 57.2349\n",
            "Epoch 22/100\n",
            "31/31 [==============================] - 0s 2ms/step - loss: 56.8633\n",
            "Epoch 23/100\n",
            "31/31 [==============================] - 0s 2ms/step - loss: 56.9790\n",
            "Epoch 24/100\n",
            "31/31 [==============================] - 0s 2ms/step - loss: 56.5076\n",
            "Epoch 25/100\n",
            "31/31 [==============================] - 0s 2ms/step - loss: 56.2509\n",
            "Epoch 26/100\n",
            "31/31 [==============================] - 0s 2ms/step - loss: 55.6642\n",
            "Epoch 27/100\n",
            "31/31 [==============================] - 0s 2ms/step - loss: 55.5177\n",
            "Epoch 28/100\n",
            "31/31 [==============================] - 0s 2ms/step - loss: 55.1546\n",
            "Epoch 29/100\n",
            "31/31 [==============================] - 0s 2ms/step - loss: 55.4339\n",
            "Epoch 30/100\n",
            "31/31 [==============================] - 0s 2ms/step - loss: 54.7927\n",
            "Epoch 31/100\n",
            "31/31 [==============================] - 0s 2ms/step - loss: 54.6443\n",
            "Epoch 32/100\n",
            "31/31 [==============================] - 0s 3ms/step - loss: 54.4764\n",
            "Epoch 33/100\n",
            "31/31 [==============================] - 0s 2ms/step - loss: 54.2555\n",
            "Epoch 34/100\n",
            "31/31 [==============================] - 0s 2ms/step - loss: 54.0050\n",
            "Epoch 35/100\n",
            "31/31 [==============================] - 0s 2ms/step - loss: 53.9284\n",
            "Epoch 36/100\n",
            "31/31 [==============================] - 0s 2ms/step - loss: 53.7336\n",
            "Epoch 37/100\n",
            "31/31 [==============================] - 0s 2ms/step - loss: 53.5611\n",
            "Epoch 38/100\n",
            "31/31 [==============================] - 0s 3ms/step - loss: 53.2710\n",
            "Epoch 39/100\n",
            "31/31 [==============================] - 0s 2ms/step - loss: 53.6875\n",
            "Epoch 40/100\n",
            "31/31 [==============================] - 0s 2ms/step - loss: 53.0958\n",
            "Epoch 41/100\n",
            "31/31 [==============================] - 0s 2ms/step - loss: 52.8791\n",
            "Epoch 42/100\n",
            "31/31 [==============================] - 0s 2ms/step - loss: 52.6082\n",
            "Epoch 43/100\n",
            "31/31 [==============================] - 0s 2ms/step - loss: 52.7295\n",
            "Epoch 44/100\n",
            "31/31 [==============================] - 0s 2ms/step - loss: 52.8395\n",
            "Epoch 45/100\n",
            "31/31 [==============================] - 0s 2ms/step - loss: 52.1737\n",
            "Epoch 46/100\n",
            "31/31 [==============================] - 0s 2ms/step - loss: 52.0473\n",
            "Epoch 47/100\n",
            "31/31 [==============================] - 0s 2ms/step - loss: 51.8813\n",
            "Epoch 48/100\n",
            "31/31 [==============================] - 0s 2ms/step - loss: 51.9011\n",
            "Epoch 49/100\n",
            "31/31 [==============================] - 0s 2ms/step - loss: 51.9748\n",
            "Epoch 50/100\n",
            "31/31 [==============================] - 0s 2ms/step - loss: 51.5587\n",
            "Epoch 51/100\n",
            "31/31 [==============================] - 0s 2ms/step - loss: 51.5903\n",
            "Epoch 52/100\n",
            "31/31 [==============================] - 0s 2ms/step - loss: 51.5031\n",
            "Epoch 53/100\n",
            "31/31 [==============================] - 0s 2ms/step - loss: 51.1952\n",
            "Epoch 54/100\n",
            "31/31 [==============================] - 0s 2ms/step - loss: 50.9439\n",
            "Epoch 55/100\n",
            "31/31 [==============================] - 0s 2ms/step - loss: 50.9775\n",
            "Epoch 56/100\n",
            "31/31 [==============================] - 0s 2ms/step - loss: 50.8400\n",
            "Epoch 57/100\n",
            "31/31 [==============================] - 0s 2ms/step - loss: 50.5514\n",
            "Epoch 58/100\n",
            "31/31 [==============================] - 0s 2ms/step - loss: 50.5924\n",
            "Epoch 59/100\n",
            "31/31 [==============================] - 0s 2ms/step - loss: 50.6457\n",
            "Epoch 60/100\n",
            "31/31 [==============================] - 0s 2ms/step - loss: 50.5595\n",
            "Epoch 61/100\n",
            "31/31 [==============================] - 0s 2ms/step - loss: 50.4482\n",
            "Epoch 62/100\n",
            "31/31 [==============================] - 0s 2ms/step - loss: 50.0827\n",
            "Epoch 63/100\n",
            "31/31 [==============================] - 0s 2ms/step - loss: 49.9290\n",
            "Epoch 64/100\n",
            "31/31 [==============================] - 0s 2ms/step - loss: 49.9992\n",
            "Epoch 65/100\n",
            "31/31 [==============================] - 0s 2ms/step - loss: 49.9537\n",
            "Epoch 66/100\n",
            "31/31 [==============================] - 0s 2ms/step - loss: 50.2110\n",
            "Epoch 67/100\n",
            "31/31 [==============================] - 0s 2ms/step - loss: 49.8178\n",
            "Epoch 68/100\n",
            "31/31 [==============================] - 0s 2ms/step - loss: 49.7408\n",
            "Epoch 69/100\n",
            "31/31 [==============================] - 0s 2ms/step - loss: 49.4786\n",
            "Epoch 70/100\n",
            "31/31 [==============================] - 0s 2ms/step - loss: 49.3357\n",
            "Epoch 71/100\n",
            "31/31 [==============================] - 0s 2ms/step - loss: 49.3805\n",
            "Epoch 72/100\n",
            "31/31 [==============================] - 0s 2ms/step - loss: 49.3052\n",
            "Epoch 73/100\n",
            "31/31 [==============================] - 0s 2ms/step - loss: 49.5677\n",
            "Epoch 74/100\n",
            "31/31 [==============================] - 0s 2ms/step - loss: 48.9411\n",
            "Epoch 75/100\n",
            "31/31 [==============================] - 0s 2ms/step - loss: 48.9622\n",
            "Epoch 76/100\n",
            "31/31 [==============================] - 0s 2ms/step - loss: 48.7805\n",
            "Epoch 77/100\n",
            "31/31 [==============================] - 0s 2ms/step - loss: 48.8549\n",
            "Epoch 78/100\n",
            "31/31 [==============================] - 0s 2ms/step - loss: 49.0785\n",
            "Epoch 79/100\n",
            "31/31 [==============================] - 0s 2ms/step - loss: 48.8591\n",
            "Epoch 80/100\n",
            "31/31 [==============================] - 0s 2ms/step - loss: 49.1504\n",
            "Epoch 81/100\n",
            "31/31 [==============================] - 0s 2ms/step - loss: 48.5160\n",
            "Epoch 82/100\n",
            "31/31 [==============================] - 0s 2ms/step - loss: 48.7874\n",
            "Epoch 83/100\n",
            "31/31 [==============================] - 0s 2ms/step - loss: 48.5156\n",
            "Epoch 84/100\n",
            "31/31 [==============================] - 0s 2ms/step - loss: 48.4562\n",
            "Epoch 85/100\n",
            "31/31 [==============================] - 0s 2ms/step - loss: 48.1015\n",
            "Epoch 86/100\n",
            "31/31 [==============================] - 0s 2ms/step - loss: 48.2529\n",
            "Epoch 87/100\n",
            "31/31 [==============================] - 0s 2ms/step - loss: 48.4907\n",
            "Epoch 88/100\n",
            "31/31 [==============================] - 0s 2ms/step - loss: 48.2781\n",
            "Epoch 89/100\n",
            "31/31 [==============================] - 0s 2ms/step - loss: 47.7759\n",
            "Epoch 90/100\n",
            "31/31 [==============================] - 0s 2ms/step - loss: 48.0777\n",
            "Epoch 91/100\n",
            "31/31 [==============================] - 0s 2ms/step - loss: 47.7481\n",
            "Epoch 92/100\n",
            "31/31 [==============================] - 0s 2ms/step - loss: 48.1925\n",
            "Epoch 93/100\n",
            "31/31 [==============================] - 0s 2ms/step - loss: 47.7038\n",
            "Epoch 94/100\n",
            "31/31 [==============================] - 0s 2ms/step - loss: 47.4856\n",
            "Epoch 95/100\n",
            "31/31 [==============================] - 0s 2ms/step - loss: 48.2442\n",
            "Epoch 96/100\n",
            "31/31 [==============================] - 0s 2ms/step - loss: 47.4297\n",
            "Epoch 97/100\n",
            "31/31 [==============================] - 0s 2ms/step - loss: 47.5799\n",
            "Epoch 98/100\n",
            "31/31 [==============================] - 0s 2ms/step - loss: 47.5863\n",
            "Epoch 99/100\n",
            "31/31 [==============================] - 0s 2ms/step - loss: 47.9805\n",
            "Epoch 100/100\n",
            "31/31 [==============================] - 0s 2ms/step - loss: 47.6051\n"
          ]
        },
        {
          "output_type": "execute_result",
          "data": {
            "text/plain": [
              "<keras.callbacks.History at 0x7f6190542510>"
            ]
          },
          "metadata": {},
          "execution_count": 10
        }
      ],
      "source": [
        "# Train the model\n",
        "model_baseline.fit(dataset,epochs=100)"
      ]
    },
    {
      "cell_type": "markdown",
      "metadata": {
        "id": "0-5QVzo1Tv-_"
      },
      "source": [
        "You can then get some predictions and visualize it as before. Since the network is deeper, the predictions might go slower so you may want to minimize unnecessary computations. \n",
        "\n",
        "In the previous lab, you might remember the model generating predictions using the entire `series` data. That resulted in 1,441 points in the `forecast` list then you sliced the 461 points that aligns with the validation set using `forecast = forecast[split_time - window_size:]`. \n",
        "\n",
        "You can make this process faster by just generating 461 points right from the start. That way, you don't waste time predicting points that will just be thrown away later. The code below will do just that. It will just get the points needed from the original `series` before calling the `predict()` method. With that, all predictions will align with the validation set already and the for-loop will run for only 461 times instead of 1,441. \n",
        "\n",
        "In the next lab, you'll see an even faster way to generate these predictions."
      ]
    },
    {
      "cell_type": "code",
      "execution_count": 11,
      "metadata": {
        "id": "efhco2rYyIFF",
        "colab": {
          "base_uri": "https://localhost:8080/",
          "height": 388
        },
        "outputId": "0130b3a7-4b64-4b21-c467-c57dfd9916d2"
      },
      "outputs": [
        {
          "output_type": "display_data",
          "data": {
            "text/plain": [
              "<Figure size 720x432 with 1 Axes>"
            ],
            "image/png": "[encoded data removed]"
          },
          "metadata": {
            "needs_background": "light"
          }
        }
      ],
      "source": [
        "# Initialize a list\n",
        "forecast = []\n",
        "\n",
        "# Reduce the original series\n",
        "forecast_series = series[split_time - window_size:]\n",
        "\n",
        "# Use the model to predict data points per window size\n",
        "for time in range(len(forecast_series) - window_size):\n",
        "  forecast.append(model_baseline.predict(forecast_series[time:time + window_size][np.newaxis]))\n",
        "\n",
        "# Convert to a numpy array and drop single dimensional axes\n",
        "results = np.array(forecast).squeeze()\n",
        "\n",
        "# Plot the results\n",
        "plot_series(time_valid, (x_valid, results))"
      ]
    },
    {
      "cell_type": "markdown",
      "metadata": {
        "id": "Lk5VkqNjh8Ws"
      },
      "source": [
        "You can then get the MSE and MAE for reference."
      ]
    },
    {
      "cell_type": "code",
      "execution_count": 12,
      "metadata": {
        "id": "-kT6j186YO6K",
        "colab": {
          "base_uri": "https://localhost:8080/"
        },
        "outputId": "9a9cd4f1-6181-4336-9dcd-d8084f746afa"
      },
      "outputs": [
        {
          "output_type": "stream",
          "name": "stdout",
          "text": [
            "46.410423\n",
            "5.069845\n"
          ]
        }
      ],
      "source": [
        "# Compute the metrics\n",
        "print(tf.keras.metrics.mean_squared_error(x_valid, results).numpy())\n",
        "print(tf.keras.metrics.mean_absolute_error(x_valid, results).numpy())"
      ]
    },
    {
      "cell_type": "markdown",
      "metadata": {
        "id": "tQB2gyq18YvD"
      },
      "source": [
        "## Tune the learning rate\n",
        "\n",
        "You saw that the training went well with the initial learning rate that you chose (i.e. `1e-6`). However, you're not yet sure if it is the best setting for this particular model. It might seem inconsequential in this simple model but when you have more complex ones, spending some time to tune the learning rate can lead to better training results. You will see how to do that in this section.\n",
        "\n",
        "First, you will build the same model architecture you just used."
      ]
    },
    {
      "cell_type": "code",
      "execution_count": 13,
      "metadata": {
        "id": "tnCe_nBKu7RB"
      },
      "outputs": [],
      "source": [
        "# Build the Model\n",
        "model_tune = tf.keras.models.Sequential([\n",
        "    tf.keras.layers.Dense(10, input_shape=[window_size], activation=\"relu\"), \n",
        "    tf.keras.layers.Dense(10, activation=\"relu\"), \n",
        "    tf.keras.layers.Dense(1)\n",
        "])"
      ]
    },
    {
      "cell_type": "markdown",
      "metadata": {
        "id": "CTSWS74Qj-G0"
      },
      "source": [
        "Next, you will declare a [learning rate scheduler](https://www.tensorflow.org/api_docs/python/tf/keras/callbacks/LearningRateScheduler) callback. This will allow you to dynamically set the learning rate based on the epoch number during training. As shown below, you will pass a lambda function to declare the value of the learning rate. It will start at `1e-8` at epoch 0 and is scaled by `10**(epoch / 20)` as the training goes on."
      ]
    },
    {
      "cell_type": "code",
      "execution_count": 14,
      "metadata": {
        "id": "6FDVah6-885n"
      },
      "outputs": [],
      "source": [
        "# Set the learning rate scheduler\n",
        "lr_schedule = tf.keras.callbacks.LearningRateScheduler(\n",
        "    lambda epoch: 1e-8 * 10**(epoch / 20))"
      ]
    },
    {
      "cell_type": "markdown",
      "metadata": {
        "id": "M4SJZxL1lqPX"
      },
      "source": [
        "You will then compile the model. Just to note a subtle difference with the lecture video, you don't have to set the `learning_rate` argument of the optimizer here before compiling. You can just leave the default (i.e. [`0.01` for SGD](https://www.tensorflow.org/api_docs/python/tf/keras/optimizers/SGD#args)) and allow the learning rate scheduler to set it dynamically."
      ]
    },
    {
      "cell_type": "code",
      "execution_count": 15,
      "metadata": {
        "id": "66MDQGRc9AKU"
      },
      "outputs": [],
      "source": [
        "# Initialize the optimizer\n",
        "optimizer = tf.keras.optimizers.SGD(momentum=0.9)\n",
        "\n",
        "# Set the training parameters\n",
        "model_tune.compile(loss=\"mse\", optimizer=optimizer)"
      ]
    },
    {
      "cell_type": "markdown",
      "metadata": {
        "id": "zMgbgBYzmXBi"
      },
      "source": [
        "You will pass in the `lr_schedule` callback in the `callbacks` parameter of the [`fit()`](https://www.tensorflow.org/api_docs/python/tf/keras/Model#fit) method. As you run the training below, you will see the learning rate at a particular epoch denoted by `lr` in the console output. Notice that it is increasing as expected based on the lambda function you used."
      ]
    },
    {
      "cell_type": "code",
      "execution_count": 16,
      "metadata": {
        "id": "Ef5o5DmQkuuy",
        "colab": {
          "base_uri": "https://localhost:8080/"
        },
        "outputId": "9659c10e-0188-458c-9020-1921882b3adf"
      },
      "outputs": [
        {
          "output_type": "stream",
          "name": "stdout",
          "text": [
            "Epoch 1/100\n",
            "31/31 [==============================] - 0s 3ms/step - loss: 7323.6914 - lr: 1.0000e-08\n",
            "Epoch 2/100\n",
            "31/31 [==============================] - 0s 2ms/step - loss: 5581.9463 - lr: 1.1220e-08\n",
            "Epoch 3/100\n",
            "31/31 [==============================] - 0s 2ms/step - loss: 4315.2280 - lr: 1.2589e-08\n",
            "Epoch 4/100\n",
            "31/31 [==============================] - 0s 2ms/step - loss: 3565.0444 - lr: 1.4125e-08\n",
            "Epoch 5/100\n",
            "31/31 [==============================] - 0s 2ms/step - loss: 3171.4216 - lr: 1.5849e-08\n",
            "Epoch 6/100\n",
            "31/31 [==============================] - 0s 2ms/step - loss: 2879.8623 - lr: 1.7783e-08\n",
            "Epoch 7/100\n",
            "31/31 [==============================] - 0s 2ms/step - loss: 2637.7922 - lr: 1.9953e-08\n",
            "Epoch 8/100\n",
            "31/31 [==============================] - 0s 2ms/step - loss: 2441.2307 - lr: 2.2387e-08\n",
            "Epoch 9/100\n",
            "31/31 [==============================] - 0s 2ms/step - loss: 2319.7085 - lr: 2.5119e-08\n",
            "Epoch 10/100\n",
            "31/31 [==============================] - 0s 2ms/step - loss: 2290.5034 - lr: 2.8184e-08\n",
            "Epoch 11/100\n",
            "31/31 [==============================] - 0s 2ms/step - loss: 2281.7153 - lr: 3.1623e-08\n",
            "Epoch 12/100\n",
            "31/31 [==============================] - 0s 2ms/step - loss: 2276.7175 - lr: 3.5481e-08\n",
            "Epoch 13/100\n",
            "31/31 [==============================] - 0s 2ms/step - loss: 2273.3218 - lr: 3.9811e-08\n",
            "Epoch 14/100\n",
            "31/31 [==============================] - 0s 2ms/step - loss: 2270.2876 - lr: 4.4668e-08\n",
            "Epoch 15/100\n",
            "31/31 [==============================] - 0s 2ms/step - loss: 2267.6455 - lr: 5.0119e-08\n",
            "Epoch 16/100\n",
            "31/31 [==============================] - 0s 2ms/step - loss: 2265.4602 - lr: 5.6234e-08\n",
            "Epoch 17/100\n",
            "31/31 [==============================] - 0s 2ms/step - loss: 2263.4946 - lr: 6.3096e-08\n",
            "Epoch 18/100\n",
            "31/31 [==============================] - 0s 2ms/step - loss: 2261.3838 - lr: 7.0795e-08\n",
            "Epoch 19/100\n",
            "31/31 [==============================] - 0s 2ms/step - loss: 2258.8184 - lr: 7.9433e-08\n",
            "Epoch 20/100\n",
            "31/31 [==============================] - 0s 2ms/step - loss: 2254.7224 - lr: 8.9125e-08\n",
            "Epoch 21/100\n",
            "31/31 [==============================] - 0s 2ms/step - loss: 2235.8479 - lr: 1.0000e-07\n",
            "Epoch 22/100\n",
            "31/31 [==============================] - 0s 2ms/step - loss: 1475.2631 - lr: 1.1220e-07\n",
            "Epoch 23/100\n",
            "31/31 [==============================] - 0s 2ms/step - loss: 269.1558 - lr: 1.2589e-07\n",
            "Epoch 24/100\n",
            "31/31 [==============================] - 0s 2ms/step - loss: 129.1928 - lr: 1.4125e-07\n",
            "Epoch 25/100\n",
            "31/31 [==============================] - 0s 2ms/step - loss: 124.7573 - lr: 1.5849e-07\n",
            "Epoch 26/100\n",
            "31/31 [==============================] - 0s 2ms/step - loss: 121.9739 - lr: 1.7783e-07\n",
            "Epoch 27/100\n",
            "31/31 [==============================] - 0s 2ms/step - loss: 119.6112 - lr: 1.9953e-07\n",
            "Epoch 28/100\n",
            "31/31 [==============================] - 0s 2ms/step - loss: 117.0268 - lr: 2.2387e-07\n",
            "Epoch 29/100\n",
            "31/31 [==============================] - 0s 3ms/step - loss: 114.4004 - lr: 2.5119e-07\n",
            "Epoch 30/100\n",
            "31/31 [==============================] - 0s 2ms/step - loss: 111.5106 - lr: 2.8184e-07\n",
            "Epoch 31/100\n",
            "31/31 [==============================] - 0s 2ms/step - loss: 108.9677 - lr: 3.1623e-07\n",
            "Epoch 32/100\n",
            "31/31 [==============================] - 0s 2ms/step - loss: 106.0773 - lr: 3.5481e-07\n",
            "Epoch 33/100\n",
            "31/31 [==============================] - 0s 2ms/step - loss: 103.0598 - lr: 3.9811e-07\n",
            "Epoch 34/100\n",
            "31/31 [==============================] - 0s 3ms/step - loss: 99.8117 - lr: 4.4668e-07\n",
            "Epoch 35/100\n",
            "31/31 [==============================] - 0s 2ms/step - loss: 96.5800 - lr: 5.0119e-07\n",
            "Epoch 36/100\n",
            "31/31 [==============================] - 0s 2ms/step - loss: 93.6387 - lr: 5.6234e-07\n",
            "Epoch 37/100\n",
            "31/31 [==============================] - 0s 2ms/step - loss: 90.4035 - lr: 6.3096e-07\n",
            "Epoch 38/100\n",
            "31/31 [==============================] - 0s 2ms/step - loss: 87.4235 - lr: 7.0795e-07\n",
            "Epoch 39/100\n",
            "31/31 [==============================] - 0s 2ms/step - loss: 84.5762 - lr: 7.9433e-07\n",
            "Epoch 40/100\n",
            "31/31 [==============================] - 0s 2ms/step - loss: 81.2355 - lr: 8.9125e-07\n",
            "Epoch 41/100\n",
            "31/31 [==============================] - 0s 2ms/step - loss: 78.1431 - lr: 1.0000e-06\n",
            "Epoch 42/100\n",
            "31/31 [==============================] - 0s 2ms/step - loss: 75.0956 - lr: 1.1220e-06\n",
            "Epoch 43/100\n",
            "31/31 [==============================] - 0s 2ms/step - loss: 72.3870 - lr: 1.2589e-06\n",
            "Epoch 44/100\n",
            "31/31 [==============================] - 0s 2ms/step - loss: 70.2611 - lr: 1.4125e-06\n",
            "Epoch 45/100\n",
            "31/31 [==============================] - 0s 2ms/step - loss: 67.9675 - lr: 1.5849e-06\n",
            "Epoch 46/100\n",
            "31/31 [==============================] - 0s 2ms/step - loss: 66.1314 - lr: 1.7783e-06\n",
            "Epoch 47/100\n",
            "31/31 [==============================] - 0s 2ms/step - loss: 64.0663 - lr: 1.9953e-06\n",
            "Epoch 48/100\n",
            "31/31 [==============================] - 0s 2ms/step - loss: 62.8137 - lr: 2.2387e-06\n",
            "Epoch 49/100\n",
            "31/31 [==============================] - 0s 2ms/step - loss: 62.5711 - lr: 2.5119e-06\n",
            "Epoch 50/100\n",
            "31/31 [==============================] - 0s 2ms/step - loss: 60.3038 - lr: 2.8184e-06\n",
            "Epoch 51/100\n",
            "31/31 [==============================] - 0s 2ms/step - loss: 58.9579 - lr: 3.1623e-06\n",
            "Epoch 52/100\n",
            "31/31 [==============================] - 0s 2ms/step - loss: 58.9789 - lr: 3.5481e-06\n",
            "Epoch 53/100\n",
            "31/31 [==============================] - 0s 2ms/step - loss: 61.1201 - lr: 3.9811e-06\n",
            "Epoch 54/100\n",
            "31/31 [==============================] - 0s 2ms/step - loss: 60.5348 - lr: 4.4668e-06\n",
            "Epoch 55/100\n",
            "31/31 [==============================] - 0s 2ms/step - loss: 54.9356 - lr: 5.0119e-06\n",
            "Epoch 56/100\n",
            "31/31 [==============================] - 0s 2ms/step - loss: 54.3867 - lr: 5.6234e-06\n",
            "Epoch 57/100\n",
            "31/31 [==============================] - 0s 2ms/step - loss: 54.9515 - lr: 6.3096e-06\n",
            "Epoch 58/100\n",
            "31/31 [==============================] - 0s 2ms/step - loss: 54.8211 - lr: 7.0795e-06\n",
            "Epoch 59/100\n",
            "31/31 [==============================] - 0s 2ms/step - loss: 52.4406 - lr: 7.9433e-06\n",
            "Epoch 60/100\n",
            "31/31 [==============================] - 0s 2ms/step - loss: 53.0852 - lr: 8.9125e-06\n",
            "Epoch 61/100\n",
            "31/31 [==============================] - 0s 2ms/step - loss: 51.0757 - lr: 1.0000e-05\n",
            "Epoch 62/100\n",
            "31/31 [==============================] - 0s 2ms/step - loss: 51.7914 - lr: 1.1220e-05\n",
            "Epoch 63/100\n",
            "31/31 [==============================] - 0s 2ms/step - loss: 52.2521 - lr: 1.2589e-05\n",
            "Epoch 64/100\n",
            "31/31 [==============================] - 0s 2ms/step - loss: 49.1896 - lr: 1.4125e-05\n",
            "Epoch 65/100\n",
            "31/31 [==============================] - 0s 2ms/step - loss: 48.6827 - lr: 1.5849e-05\n",
            "Epoch 66/100\n",
            "31/31 [==============================] - 0s 2ms/step - loss: 50.2847 - lr: 1.7783e-05\n",
            "Epoch 67/100\n",
            "31/31 [==============================] - 0s 2ms/step - loss: 57.6810 - lr: 1.9953e-05\n",
            "Epoch 68/100\n",
            "31/31 [==============================] - 0s 2ms/step - loss: 71.4164 - lr: 2.2387e-05\n",
            "Epoch 69/100\n",
            "31/31 [==============================] - 0s 2ms/step - loss: 56.5456 - lr: 2.5119e-05\n",
            "Epoch 70/100\n",
            "31/31 [==============================] - 0s 2ms/step - loss: 57.3802 - lr: 2.8184e-05\n",
            "Epoch 71/100\n",
            "31/31 [==============================] - 0s 2ms/step - loss: 57.7158 - lr: 3.1623e-05\n",
            "Epoch 72/100\n",
            "31/31 [==============================] - 0s 2ms/step - loss: 76.5477 - lr: 3.5481e-05\n",
            "Epoch 73/100\n",
            "31/31 [==============================] - 0s 2ms/step - loss: 49.7478 - lr: 3.9811e-05\n",
            "Epoch 74/100\n",
            "31/31 [==============================] - 0s 3ms/step - loss: 65.1648 - lr: 4.4668e-05\n",
            "Epoch 75/100\n",
            "31/31 [==============================] - 0s 2ms/step - loss: 79.3708 - lr: 5.0119e-05\n",
            "Epoch 76/100\n",
            "31/31 [==============================] - 0s 2ms/step - loss: 88.6251 - lr: 5.6234e-05\n",
            "Epoch 77/100\n",
            "31/31 [==============================] - 0s 2ms/step - loss: 105.8699 - lr: 6.3096e-05\n",
            "Epoch 78/100\n",
            "31/31 [==============================] - 0s 2ms/step - loss: 83.9196 - lr: 7.0795e-05\n",
            "Epoch 79/100\n",
            "31/31 [==============================] - 0s 2ms/step - loss: 1763.3949 - lr: 7.9433e-05\n",
            "Epoch 80/100\n",
            "31/31 [==============================] - 0s 2ms/step - loss: 1977.4464 - lr: 8.9125e-05\n",
            "Epoch 81/100\n",
            "31/31 [==============================] - 0s 2ms/step - loss: 1945.7662 - lr: 1.0000e-04\n",
            "Epoch 82/100\n",
            "31/31 [==============================] - 0s 2ms/step - loss: 1765.8083 - lr: 1.1220e-04\n",
            "Epoch 83/100\n",
            "31/31 [==============================] - 0s 2ms/step - loss: 1586.6387 - lr: 1.2589e-04\n",
            "Epoch 84/100\n",
            "31/31 [==============================] - 0s 4ms/step - loss: 1413.6581 - lr: 1.4125e-04\n",
            "Epoch 85/100\n",
            "31/31 [==============================] - 0s 4ms/step - loss: 1250.2886 - lr: 1.5849e-04\n",
            "Epoch 86/100\n",
            "31/31 [==============================] - 0s 2ms/step - loss: 1099.4170 - lr: 1.7783e-04\n",
            "Epoch 87/100\n",
            "31/31 [==============================] - 0s 2ms/step - loss: 961.9656 - lr: 1.9953e-04\n",
            "Epoch 88/100\n",
            "31/31 [==============================] - 0s 4ms/step - loss: 888.7441 - lr: 2.2387e-04\n",
            "Epoch 89/100\n",
            "31/31 [==============================] - 0s 2ms/step - loss: 738.5193 - lr: 2.5119e-04\n",
            "Epoch 90/100\n",
            "31/31 [==============================] - 0s 2ms/step - loss: 654.0784 - lr: 2.8184e-04\n",
            "Epoch 91/100\n",
            "31/31 [==============================] - 0s 4ms/step - loss: 586.7772 - lr: 3.1623e-04\n",
            "Epoch 92/100\n",
            "31/31 [==============================] - 0s 4ms/step - loss: 533.5331 - lr: 3.5481e-04\n",
            "Epoch 93/100\n",
            "31/31 [==============================] - 0s 2ms/step - loss: 1245.6155 - lr: 3.9811e-04\n",
            "Epoch 94/100\n",
            "31/31 [==============================] - 0s 2ms/step - loss: 471.7606 - lr: 4.4668e-04\n",
            "Epoch 95/100\n",
            "31/31 [==============================] - 0s 2ms/step - loss: 8699.0850 - lr: 5.0119e-04\n",
            "Epoch 96/100\n",
            "31/31 [==============================] - 0s 2ms/step - loss: 455.8187 - lr: 5.6234e-04\n",
            "Epoch 97/100\n",
            "31/31 [==============================] - 0s 2ms/step - loss: 450.1614 - lr: 6.3096e-04\n",
            "Epoch 98/100\n",
            "31/31 [==============================] - 0s 2ms/step - loss: 447.0764 - lr: 7.0795e-04\n",
            "Epoch 99/100\n",
            "31/31 [==============================] - 0s 2ms/step - loss: 445.7053 - lr: 7.9433e-04\n",
            "Epoch 100/100\n",
            "31/31 [==============================] - 0s 2ms/step - loss: 445.2694 - lr: 8.9125e-04\n"
          ]
        }
      ],
      "source": [
        "# Train the model\n",
        "history = model_tune.fit(dataset, epochs=100, callbacks=[lr_schedule])"
      ]
    },
    {
      "cell_type": "markdown",
      "metadata": {
        "id": "Sz9yLyRkkuet"
      },
      "source": [
        "Next step is to plot the results of the training. You will visualize the loss at each value of the learning rate."
      ]
    },
    {
      "cell_type": "code",
      "execution_count": 17,
      "metadata": {
        "id": "2ZaNsM2IgCd_",
        "colab": {
          "base_uri": "https://localhost:8080/",
          "height": 405
        },
        "outputId": "a60031ae-0df2-4288-9c17-fdf2cc0b24a7"
      },
      "outputs": [
        {
          "output_type": "execute_result",
          "data": {
            "text/plain": [
              "(1e-08, 0.001, 0.0, 300.0)"
            ]
          },
          "metadata": {},
          "execution_count": 17
        },
        {
          "output_type": "display_data",
          "data": {
            "text/plain": [
              "<Figure size 720x432 with 1 Axes>"
            ],
            "image/png": "[encoded data removed]"
          },
          "metadata": {
            "needs_background": "light"
          }
        }
      ],
      "source": [
        "# Define the learning rate array\n",
        "lrs = 1e-8 * (10 ** (np.arange(100) / 20))\n",
        "\n",
        "# Set the figure size\n",
        "plt.figure(figsize=(10, 6))\n",
        "\n",
        "# Set the grid\n",
        "plt.grid(True)\n",
        "\n",
        "# Plot the loss in log scale\n",
        "plt.semilogx(lrs, history.history[\"loss\"])\n",
        "\n",
        "# Increase the tickmarks size\n",
        "plt.tick_params('both', length=10, width=1, which='both')\n",
        "\n",
        "# Set the plot boundaries\n",
        "plt.axis([1e-8, 1e-3, 0, 300])"
      ]
    },
    {
      "cell_type": "markdown",
      "metadata": {
        "id": "obCq2g0qn0GD"
      },
      "source": [
        "The generated graph above shows the values of the range of learning rates that leads to lower losses (i.e. sloping downward) and also which ones cause the training to become unstable (i.e. jagged edges and pointing upwards). In general, you will want to pick a point in a downward slope. That means the network is still learning at that point and is stable. Choosing close to the minimum point of the graph will make the training converge to that loss value quicker, as will be shown in the next cells.\n",
        "\n",
        "First, you will initialize the same model architecture again."
      ]
    },
    {
      "cell_type": "code",
      "execution_count": 18,
      "metadata": {
        "id": "F7vzeS6BKUb_"
      },
      "outputs": [],
      "source": [
        "# Build the model\n",
        "model_tune = tf.keras.models.Sequential([\n",
        "  tf.keras.layers.Dense(10, activation=\"relu\", input_shape=[window_size]),\n",
        "  tf.keras.layers.Dense(10, activation=\"relu\"),\n",
        "  tf.keras.layers.Dense(1)\n",
        "])"
      ]
    },
    {
      "cell_type": "markdown",
      "metadata": {
        "id": "9gjrVfgWp3ku"
      },
      "source": [
        "You will then set the optimizer with a learning rate close to the minimum. It is set to `4e-6` initially but feel free to change based on your results."
      ]
    },
    {
      "cell_type": "code",
      "execution_count": 19,
      "metadata": {
        "id": "nVHuxnXMKjja"
      },
      "outputs": [],
      "source": [
        "# Set the optimizer with the tuned learning rate\n",
        "optimizer = tf.keras.optimizers.SGD(learning_rate=4e-6, momentum=0.9)"
      ]
    },
    {
      "cell_type": "markdown",
      "metadata": {
        "id": "pyrhSDU5qPn6"
      },
      "source": [
        "You can then compile and train the model as before. Observe the loss values and compare it to the output of the baseline model you had before. Most likely, you will have met the final loss value of the `model_baseline` within the first 50 epochs of training this `model_tune`. You will also likely have a lower loss after all 100 epochs are done."
      ]
    },
    {
      "cell_type": "code",
      "execution_count": 20,
      "metadata": {
        "id": "rDNeYqqzqQ-s",
        "colab": {
          "base_uri": "https://localhost:8080/"
        },
        "outputId": "22741c17-619b-4971-aa2f-5a0088005f67"
      },
      "outputs": [
        {
          "output_type": "stream",
          "name": "stdout",
          "text": [
            "Epoch 1/100\n",
            "31/31 [==============================] - 0s 3ms/step - loss: 946.0182\n",
            "Epoch 2/100\n",
            "31/31 [==============================] - 0s 2ms/step - loss: 108.8099\n",
            "Epoch 3/100\n",
            "31/31 [==============================] - 0s 2ms/step - loss: 82.0177\n",
            "Epoch 4/100\n",
            "31/31 [==============================] - 0s 2ms/step - loss: 76.1884\n",
            "Epoch 5/100\n",
            "31/31 [==============================] - 0s 2ms/step - loss: 71.0673\n",
            "Epoch 6/100\n",
            "31/31 [==============================] - 0s 2ms/step - loss: 68.9604\n",
            "Epoch 7/100\n",
            "31/31 [==============================] - 0s 2ms/step - loss: 65.0302\n",
            "Epoch 8/100\n",
            "31/31 [==============================] - 0s 2ms/step - loss: 63.3686\n",
            "Epoch 9/100\n",
            "31/31 [==============================] - 0s 2ms/step - loss: 60.2101\n",
            "Epoch 10/100\n",
            "31/31 [==============================] - 0s 2ms/step - loss: 58.7023\n",
            "Epoch 11/100\n",
            "31/31 [==============================] - 0s 2ms/step - loss: 59.5617\n",
            "Epoch 12/100\n",
            "31/31 [==============================] - 0s 2ms/step - loss: 56.7841\n",
            "Epoch 13/100\n",
            "31/31 [==============================] - 0s 2ms/step - loss: 55.0079\n",
            "Epoch 14/100\n",
            "31/31 [==============================] - 0s 2ms/step - loss: 54.3952\n",
            "Epoch 15/100\n",
            "31/31 [==============================] - 0s 3ms/step - loss: 54.3894\n",
            "Epoch 16/100\n",
            "31/31 [==============================] - 0s 2ms/step - loss: 53.8636\n",
            "Epoch 17/100\n",
            "31/31 [==============================] - 0s 2ms/step - loss: 52.4768\n",
            "Epoch 18/100\n",
            "31/31 [==============================] - 0s 2ms/step - loss: 52.9188\n",
            "Epoch 19/100\n",
            "31/31 [==============================] - 0s 2ms/step - loss: 52.4249\n",
            "Epoch 20/100\n",
            "31/31 [==============================] - 0s 2ms/step - loss: 51.4636\n",
            "Epoch 21/100\n",
            "31/31 [==============================] - 0s 2ms/step - loss: 51.1539\n",
            "Epoch 22/100\n",
            "31/31 [==============================] - 0s 2ms/step - loss: 50.9003\n",
            "Epoch 23/100\n",
            "31/31 [==============================] - 0s 2ms/step - loss: 50.2991\n",
            "Epoch 24/100\n",
            "31/31 [==============================] - 0s 2ms/step - loss: 49.5674\n",
            "Epoch 25/100\n",
            "31/31 [==============================] - 0s 2ms/step - loss: 51.0727\n",
            "Epoch 26/100\n",
            "31/31 [==============================] - 0s 2ms/step - loss: 50.8384\n",
            "Epoch 27/100\n",
            "31/31 [==============================] - 0s 2ms/step - loss: 49.0206\n",
            "Epoch 28/100\n",
            "31/31 [==============================] - 0s 2ms/step - loss: 49.3931\n",
            "Epoch 29/100\n",
            "31/31 [==============================] - 0s 2ms/step - loss: 48.6628\n",
            "Epoch 30/100\n",
            "31/31 [==============================] - 0s 2ms/step - loss: 48.1592\n",
            "Epoch 31/100\n",
            "31/31 [==============================] - 0s 2ms/step - loss: 48.4877\n",
            "Epoch 32/100\n",
            "31/31 [==============================] - 0s 2ms/step - loss: 47.7962\n",
            "Epoch 33/100\n",
            "31/31 [==============================] - 0s 2ms/step - loss: 48.9687\n",
            "Epoch 34/100\n",
            "31/31 [==============================] - 0s 2ms/step - loss: 48.8962\n",
            "Epoch 35/100\n",
            "31/31 [==============================] - 0s 2ms/step - loss: 47.5920\n",
            "Epoch 36/100\n",
            "31/31 [==============================] - 0s 2ms/step - loss: 47.8047\n",
            "Epoch 37/100\n",
            "31/31 [==============================] - 0s 2ms/step - loss: 47.7223\n",
            "Epoch 38/100\n",
            "31/31 [==============================] - 0s 2ms/step - loss: 47.9621\n",
            "Epoch 39/100\n",
            "31/31 [==============================] - 0s 2ms/step - loss: 46.7955\n",
            "Epoch 40/100\n",
            "31/31 [==============================] - 0s 2ms/step - loss: 46.8396\n",
            "Epoch 41/100\n",
            "31/31 [==============================] - 0s 2ms/step - loss: 47.0621\n",
            "Epoch 42/100\n",
            "31/31 [==============================] - 0s 2ms/step - loss: 47.2487\n",
            "Epoch 43/100\n",
            "31/31 [==============================] - 0s 2ms/step - loss: 46.7673\n",
            "Epoch 44/100\n",
            "31/31 [==============================] - 0s 2ms/step - loss: 46.3190\n",
            "Epoch 45/100\n",
            "31/31 [==============================] - 0s 2ms/step - loss: 45.8245\n",
            "Epoch 46/100\n",
            "31/31 [==============================] - 0s 2ms/step - loss: 45.8995\n",
            "Epoch 47/100\n",
            "31/31 [==============================] - 0s 2ms/step - loss: 46.0664\n",
            "Epoch 48/100\n",
            "31/31 [==============================] - 0s 2ms/step - loss: 45.5105\n",
            "Epoch 49/100\n",
            "31/31 [==============================] - 0s 2ms/step - loss: 45.2783\n",
            "Epoch 50/100\n",
            "31/31 [==============================] - 0s 2ms/step - loss: 45.0717\n",
            "Epoch 51/100\n",
            "31/31 [==============================] - 0s 2ms/step - loss: 46.7404\n",
            "Epoch 52/100\n",
            "31/31 [==============================] - 0s 2ms/step - loss: 47.2445\n",
            "Epoch 53/100\n",
            "31/31 [==============================] - 0s 2ms/step - loss: 44.9318\n",
            "Epoch 54/100\n",
            "31/31 [==============================] - 0s 2ms/step - loss: 44.4369\n",
            "Epoch 55/100\n",
            "31/31 [==============================] - 0s 2ms/step - loss: 44.3519\n",
            "Epoch 56/100\n",
            "31/31 [==============================] - 0s 2ms/step - loss: 44.7631\n",
            "Epoch 57/100\n",
            "31/31 [==============================] - 0s 2ms/step - loss: 44.5753\n",
            "Epoch 58/100\n",
            "31/31 [==============================] - 0s 2ms/step - loss: 44.9853\n",
            "Epoch 59/100\n",
            "31/31 [==============================] - 0s 2ms/step - loss: 44.0432\n",
            "Epoch 60/100\n",
            "31/31 [==============================] - 0s 2ms/step - loss: 45.1332\n",
            "Epoch 61/100\n",
            "31/31 [==============================] - 0s 2ms/step - loss: 45.8431\n",
            "Epoch 62/100\n",
            "31/31 [==============================] - 0s 2ms/step - loss: 44.0941\n",
            "Epoch 63/100\n",
            "31/31 [==============================] - 0s 2ms/step - loss: 43.6732\n",
            "Epoch 64/100\n",
            "31/31 [==============================] - 0s 2ms/step - loss: 43.7158\n",
            "Epoch 65/100\n",
            "31/31 [==============================] - 0s 2ms/step - loss: 43.7438\n",
            "Epoch 66/100\n",
            "31/31 [==============================] - 0s 2ms/step - loss: 44.3691\n",
            "Epoch 67/100\n",
            "31/31 [==============================] - 0s 2ms/step - loss: 43.5129\n",
            "Epoch 68/100\n",
            "31/31 [==============================] - 0s 2ms/step - loss: 43.3863\n",
            "Epoch 69/100\n",
            "31/31 [==============================] - 0s 2ms/step - loss: 43.0693\n",
            "Epoch 70/100\n",
            "31/31 [==============================] - 0s 2ms/step - loss: 43.8664\n",
            "Epoch 71/100\n",
            "31/31 [==============================] - 0s 2ms/step - loss: 43.5855\n",
            "Epoch 72/100\n",
            "31/31 [==============================] - 0s 2ms/step - loss: 43.5811\n",
            "Epoch 73/100\n",
            "31/31 [==============================] - 0s 2ms/step - loss: 42.7020\n",
            "Epoch 74/100\n",
            "31/31 [==============================] - 0s 2ms/step - loss: 42.9183\n",
            "Epoch 75/100\n",
            "31/31 [==============================] - 0s 2ms/step - loss: 42.6125\n",
            "Epoch 76/100\n",
            "31/31 [==============================] - 0s 2ms/step - loss: 43.6405\n",
            "Epoch 77/100\n",
            "31/31 [==============================] - 0s 2ms/step - loss: 42.5738\n",
            "Epoch 78/100\n",
            "31/31 [==============================] - 0s 2ms/step - loss: 42.5561\n",
            "Epoch 79/100\n",
            "31/31 [==============================] - 0s 2ms/step - loss: 43.5269\n",
            "Epoch 80/100\n",
            "31/31 [==============================] - 0s 2ms/step - loss: 42.9102\n",
            "Epoch 81/100\n",
            "31/31 [==============================] - 0s 2ms/step - loss: 43.4066\n",
            "Epoch 82/100\n",
            "31/31 [==============================] - 0s 2ms/step - loss: 42.5292\n",
            "Epoch 83/100\n",
            "31/31 [==============================] - 0s 2ms/step - loss: 42.4642\n",
            "Epoch 84/100\n",
            "31/31 [==============================] - 0s 2ms/step - loss: 42.3280\n",
            "Epoch 85/100\n",
            "31/31 [==============================] - 0s 3ms/step - loss: 42.1374\n",
            "Epoch 86/100\n",
            "31/31 [==============================] - 0s 2ms/step - loss: 42.1110\n",
            "Epoch 87/100\n",
            "31/31 [==============================] - 0s 2ms/step - loss: 42.8281\n",
            "Epoch 88/100\n",
            "31/31 [==============================] - 0s 2ms/step - loss: 42.1918\n",
            "Epoch 89/100\n",
            "31/31 [==============================] - 0s 2ms/step - loss: 42.3523\n",
            "Epoch 90/100\n",
            "31/31 [==============================] - 0s 2ms/step - loss: 43.6574\n",
            "Epoch 91/100\n",
            "31/31 [==============================] - 0s 2ms/step - loss: 43.1645\n",
            "Epoch 92/100\n",
            "31/31 [==============================] - 0s 2ms/step - loss: 42.8225\n",
            "Epoch 93/100\n",
            "31/31 [==============================] - 0s 2ms/step - loss: 42.0806\n",
            "Epoch 94/100\n",
            "31/31 [==============================] - 0s 2ms/step - loss: 42.7102\n",
            "Epoch 95/100\n",
            "31/31 [==============================] - 0s 2ms/step - loss: 42.9102\n",
            "Epoch 96/100\n",
            "31/31 [==============================] - 0s 2ms/step - loss: 42.8481\n",
            "Epoch 97/100\n",
            "31/31 [==============================] - 0s 2ms/step - loss: 42.7998\n",
            "Epoch 98/100\n",
            "31/31 [==============================] - 0s 3ms/step - loss: 42.3773\n",
            "Epoch 99/100\n",
            "31/31 [==============================] - 0s 2ms/step - loss: 41.7747\n",
            "Epoch 100/100\n",
            "31/31 [==============================] - 0s 2ms/step - loss: 42.0349\n"
          ]
        }
      ],
      "source": [
        "# Set the training parameters\n",
        "model_tune.compile(loss=\"mse\", optimizer=optimizer)\n",
        "\n",
        "# Train the model\n",
        "history = model_tune.fit(dataset, epochs=100)"
      ]
    },
    {
      "cell_type": "markdown",
      "metadata": {
        "id": "8W-zX3LCrZc2"
      },
      "source": [
        "You can plot the `loss` values by getting it from the [History](https://www.tensorflow.org/api_docs/python/tf/keras/callbacks/History) object returned by the `fit()` method. As you can see, the model is still trending downward after the training."
      ]
    },
    {
      "cell_type": "code",
      "execution_count": 21,
      "metadata": {
        "id": "iXBMO1HM9AHX",
        "colab": {
          "base_uri": "https://localhost:8080/",
          "height": 265
        },
        "outputId": "d01dedc7-db73-44d9-c4dc-8587c9012184"
      },
      "outputs": [
        {
          "output_type": "display_data",
          "data": {
            "text/plain": [
              "<Figure size 432x288 with 1 Axes>"
            ],
            "image/png": "[encoded data removed]"
          },
          "metadata": {
            "needs_background": "light"
          }
        }
      ],
      "source": [
        "# Plot the loss\n",
        "loss = history.history['loss']\n",
        "epochs = range(len(loss))\n",
        "plt.plot(epochs, loss, 'b', label='Training Loss')\n",
        "plt.show()"
      ]
    },
    {
      "cell_type": "code",
      "execution_count": 22,
      "metadata": {
        "id": "xakiRU7R7WAo",
        "colab": {
          "base_uri": "https://localhost:8080/",
          "height": 265
        },
        "outputId": "f4ab00ef-dc70-4a00-d60c-fe066862d41d"
      },
      "outputs": [
        {
          "output_type": "display_data",
          "data": {
            "text/plain": [
              "<Figure size 432x288 with 1 Axes>"
            ],
            "image/png": "[encoded data removed]"
          },
          "metadata": {
            "needs_background": "light"
          }
        }
      ],
      "source": [
        "# Plot all but the first 10\n",
        "loss = history.history['loss']\n",
        "epochs = range(10, len(loss))\n",
        "plot_loss = loss[10:]\n",
        "plt.plot(epochs, plot_loss, 'b', label='Training Loss')\n",
        "plt.show()"
      ]
    },
    {
      "cell_type": "markdown",
      "metadata": {
        "id": "XxDbVYFusI3O"
      },
      "source": [
        "You can get the preictions again and overlay it on the validation set."
      ]
    },
    {
      "cell_type": "code",
      "execution_count": 23,
      "metadata": {
        "id": "mIi2fTzPTJxe",
        "colab": {
          "base_uri": "https://localhost:8080/",
          "height": 388
        },
        "outputId": "6409a5e0-0473-4b86-f6dd-7f032b52d122"
      },
      "outputs": [
        {
          "output_type": "display_data",
          "data": {
            "text/plain": [
              "<Figure size 720x432 with 1 Axes>"
            ],
            "image/png": "[encoded data removed]"
          },
          "metadata": {
            "needs_background": "light"
          }
        }
      ],
      "source": [
        "# Initialize a list\n",
        "forecast = []\n",
        "\n",
        "# Reduce the original series\n",
        "forecast_series = series[split_time - window_size:]\n",
        "\n",
        "# Use the model to predict data points per window size\n",
        "for time in range(len(forecast_series) - window_size):\n",
        "  forecast.append(model_tune.predict(forecast_series[time:time + window_size][np.newaxis]))\n",
        "\n",
        "# Convert to a numpy array and drop single dimensional axes\n",
        "results = np.array(forecast).squeeze()\n",
        "\n",
        "# Plot the results\n",
        "plot_series(time_valid, (x_valid, results))"
      ]
    },
    {
      "cell_type": "markdown",
      "metadata": {
        "id": "KExPe7qJsTxk"
      },
      "source": [
        "Finally, you can compute the metrics and you should arrive at similar figures compared to the baseline. If it is much worse, then the model might have overfitted and you can use techniques you know to avoid it (e.g. adding dropout)."
      ]
    },
    {
      "cell_type": "code",
      "execution_count": 24,
      "metadata": {
        "id": "W-GPjL2wv0yc",
        "colab": {
          "base_uri": "https://localhost:8080/"
        },
        "outputId": "377b6094-a5b8-421f-e03d-cec2ee3ff0f9"
      },
      "outputs": [
        {
          "output_type": "stream",
          "name": "stdout",
          "text": [
            "46.301514\n",
            "4.94144\n"
          ]
        }
      ],
      "source": [
        "print(tf.keras.metrics.mean_squared_error(x_valid, results).numpy())\n",
        "print(tf.keras.metrics.mean_absolute_error(x_valid, results).numpy())"
      ]
    },
    {
      "cell_type": "markdown",
      "metadata": {
        "id": "U9ViZ1Mcs11C"
      },
      "source": [
        "## Wrap Up\n",
        "\n",
        "This concludes the exercise on using a deep neural network for forecasting. Along the way, you did some hyperparameter tuning, particularly on the learning rate. You will be using this technique as well in the next labs. Next week, you will be using recurrent neural networks to build your forecasting model. See you there and keep it up!"
      ]
    }
  ],
  "metadata": {
    "colab": {
      "collapsed_sections": [],
      "name": "C4_W2_Lab_3_deep_NN.ipynb",
      "provenance": []
    },
    "kernelspec": {
      "display_name": "Python 3",
      "language": "python",
      "name": "python3"
    },
    "language_info": {
      "codemirror_mode": {
        "name": "ipython",
        "version": 3
      },
      "file_extension": ".py",
      "mimetype": "text/x-python",
      "name": "python",
      "nbconvert_exporter": "python",
      "pygments_lexer": "ipython3",
      "version": "3.7.4"
    },
    "accelerator": "GPU",
    "gpuClass": "standard"
  },
  "nbformat": 4,
  "nbformat_minor": 0
}