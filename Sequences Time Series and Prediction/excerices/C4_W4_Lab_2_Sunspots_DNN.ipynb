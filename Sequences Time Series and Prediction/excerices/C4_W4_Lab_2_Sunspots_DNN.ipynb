{
  "cells": [
    {
      "cell_type": "markdown",
      "metadata": {
        "id": "-VJisbbwYpa1"
      },
      "source": [
        "<a href=\"https://colab.research.google.com/github/https-deeplearning-ai/tensorflow-1-public/blob/main/C4/W4/ungraded_labs/C4_W4_Lab_2_Sunspots_DNN.ipynb\" target=\"_parent\"><img src=\"https://colab.research.google.com/assets/colab-badge.svg\" alt=\"Open In Colab\"/></a>"
      ]
    },
    {
      "cell_type": "markdown",
      "metadata": {
        "id": "JQsk1BKwZrBh"
      },
      "source": [
        "# Ungraded Lab: Predicting Sunspots with Neural Networks (DNN only)\n",
        "\n",
        "In the remaining labs for this week, you will move away from synthetic time series and start building models for real world data. In particular, you will train on the [Sunspots](https://www.kaggle.com/datasets/robervalt/sunspots) dataset: a monthly record of sunspot numbers from January 1749 to July 2018. You will first build a deep neural network here composed of dense layers. This will act as your baseline so you can compare it to the next lab where you will use a more complex architecture.\n",
        "\n",
        "Let's begin!"
      ]
    },
    {
      "cell_type": "markdown",
      "metadata": {
        "id": "2JHlrB12aeFD"
      },
      "source": [
        "## Imports\n",
        "\n",
        "You will use the same imports as before with the addition of the [csv](https://docs.python.org/3/library/csv.html) module. You will need this to parse the CSV file containing the dataset."
      ]
    },
    {
      "cell_type": "code",
      "execution_count": 1,
      "metadata": {
        "id": "56XEQOGknrAk"
      },
      "outputs": [],
      "source": [
        "import tensorflow as tf\n",
        "import numpy as np\n",
        "import matplotlib.pyplot as plt\n",
        "import csv"
      ]
    },
    {
      "cell_type": "markdown",
      "metadata": {
        "id": "D-mNttnaagBH"
      },
      "source": [
        "## Utilities\n",
        "\n",
        "You will only have the `plot_series()` dataset here because you no longer need the synthetic data generation functions."
      ]
    },
    {
      "cell_type": "code",
      "execution_count": 2,
      "metadata": {
        "id": "sLl52leVp5wU"
      },
      "outputs": [],
      "source": [
        "def plot_series(x, y, format=\"-\", start=0, end=None, \n",
        "                title=None, xlabel=None, ylabel=None, legend=None ):\n",
        "    \"\"\"\n",
        "    Visualizes time series data\n",
        "\n",
        "    Args:\n",
        "      x (array of int) - contains values for the x-axis\n",
        "      y (array of int or tuple of arrays) - contains the values for the y-axis\n",
        "      format (string) - line style when plotting the graph\n",
        "      label (string) - tag for the line\n",
        "      start (int) - first time step to plot\n",
        "      end (int) - last time step to plot\n",
        "      title (string) - title of the plot\n",
        "      xlabel (string) - label for the x-axis\n",
        "      ylabel (string) - label for the y-axis\n",
        "      legend (list of strings) - legend for the plot\n",
        "    \"\"\"\n",
        "\n",
        "    # Setup dimensions of the graph figure\n",
        "    plt.figure(figsize=(10, 6))\n",
        "    \n",
        "    # Check if there are more than two series to plot\n",
        "    if type(y) is tuple:\n",
        "\n",
        "      # Loop over the y elements\n",
        "      for y_curr in y:\n",
        "\n",
        "        # Plot the x and current y values\n",
        "        plt.plot(x[start:end], y_curr[start:end], format)\n",
        "\n",
        "    else:\n",
        "      # Plot the x and y values\n",
        "      plt.plot(x[start:end], y[start:end], format)\n",
        "\n",
        "    # Label the x-axis\n",
        "    plt.xlabel(xlabel)\n",
        "\n",
        "    # Label the y-axis\n",
        "    plt.ylabel(ylabel)\n",
        "\n",
        "    # Set the legend\n",
        "    if legend:\n",
        "      plt.legend(legend)\n",
        "\n",
        "    # Set the title\n",
        "    plt.title(title)\n",
        "\n",
        "    # Overlay a grid on the graph\n",
        "    plt.grid(True)\n",
        "\n",
        "    # Draw the graph on screen\n",
        "    plt.show()"
      ]
    },
    {
      "cell_type": "markdown",
      "metadata": {
        "id": "dFJv45pDauS8"
      },
      "source": [
        "## Download and Preview the Dataset\n",
        "\n",
        "You can now download the dataset and inspect the contents. The link in class is from Laurence's repo but we also hosted it in the link below."
      ]
    },
    {
      "cell_type": "code",
      "execution_count": 3,
      "metadata": {
        "id": "YwI-si5xyUkQ",
        "colab": {
          "base_uri": "https://localhost:8080/"
        },
        "outputId": "888c610d-1a5a-44d6-8299-ffc6d16b507e"
      },
      "outputs": [
        {
          "output_type": "stream",
          "name": "stdout",
          "text": [
            "--2022-07-24 13:26:39--  https://storage.googleapis.com/tensorflow-1-public/course4/Sunspots.csv\n",
            "Resolving storage.googleapis.com (storage.googleapis.com)... 173.194.202.128, 74.125.20.128, 108.177.98.128, ...\n",
            "Connecting to storage.googleapis.com (storage.googleapis.com)|173.194.202.128|:443... connected.\n",
            "HTTP request sent, awaiting response... 200 OK\n",
            "Length: 70827 (69K) [text/csv]\n",
            "Saving to: ‘Sunspots.csv’\n",
            "\n",
            "\rSunspots.csv          0%[                    ]       0  --.-KB/s               \rSunspots.csv        100%[===================>]  69.17K  --.-KB/s    in 0.001s  \n",
            "\n",
            "2022-07-24 13:26:40 (129 MB/s) - ‘Sunspots.csv’ saved [70827/70827]\n",
            "\n"
          ]
        }
      ],
      "source": [
        "# Download the dataset\n",
        "!wget https://storage.googleapis.com/tensorflow-1-public/course4/Sunspots.csv"
      ]
    },
    {
      "cell_type": "markdown",
      "metadata": {
        "id": "c0fAiMytrwPJ"
      },
      "source": [
        "Running the cell below, you'll see that there are only three columns in the dataset:\n",
        "1. untitled column containing the month number\n",
        "2. Date which has the format `YYYY-MM-DD`\n",
        "3. Mean Total Sunspot Number"
      ]
    },
    {
      "cell_type": "code",
      "execution_count": 4,
      "metadata": {
        "id": "d5W2auXKrhVh",
        "colab": {
          "base_uri": "https://localhost:8080/"
        },
        "outputId": "3be05ddc-853f-4bdd-8477-bc9c6eda06c9"
      },
      "outputs": [
        {
          "output_type": "stream",
          "name": "stdout",
          "text": [
            ",Date,Monthly Mean Total Sunspot Number\r\n",
            "0,1749-01-31,96.7\r\n",
            "1,1749-02-28,104.3\r\n",
            "2,1749-03-31,116.7\r\n",
            "3,1749-04-30,92.8\r\n",
            "4,1749-05-31,141.7\r\n",
            "5,1749-06-30,139.2\r\n",
            "6,1749-07-31,158.0\r\n",
            "7,1749-08-31,110.5\r\n",
            "8,1749-09-30,126.5\r\n"
          ]
        }
      ],
      "source": [
        "# Preview the dataset\n",
        "!head Sunspots.csv"
      ]
    },
    {
      "cell_type": "markdown",
      "metadata": {
        "id": "lbs-Y2SDsVaw"
      },
      "source": [
        "For this lab and the next, you will only need the month number and the mean total sunspot number. You will load those into memory and convert it to arrays that represents a time series."
      ]
    },
    {
      "cell_type": "code",
      "execution_count": 5,
      "metadata": {
        "id": "NcG9r1eClbTh",
        "colab": {
          "base_uri": "https://localhost:8080/",
          "height": 388
        },
        "outputId": "e1fa6970-4e50-410b-e3e1-ac40d4dc3d3d"
      },
      "outputs": [
        {
          "output_type": "display_data",
          "data": {
            "text/plain": [
              "<Figure size 720x432 with 1 Axes>"
            ],
            "image/png": "[encoded data removed]"
          },
          "metadata": {
            "needs_background": "light"
          }
        }
      ],
      "source": [
        "# Initialize lists\n",
        "time_step = []\n",
        "sunspots = []\n",
        "\n",
        "# Open CSV file\n",
        "with open('./Sunspots.csv') as csvfile:\n",
        "  \n",
        "  # Initialize reader\n",
        "  reader = csv.reader(csvfile, delimiter=',')\n",
        "  \n",
        "  # Skip the first line\n",
        "  next(reader)\n",
        "  \n",
        "  # Append row and sunspot number to lists\n",
        "  for row in reader:\n",
        "    time_step.append(int(row[0]))\n",
        "    sunspots.append(float(row[2]))\n",
        "\n",
        "# Convert lists to numpy arrays\n",
        "time = np.array(time_step)\n",
        "series = np.array(sunspots)\n",
        "\n",
        "# Preview the data\n",
        "plot_series(time, series, xlabel='Month', ylabel='Monthly Mean Total Sunspot Number')"
      ]
    },
    {
      "cell_type": "markdown",
      "metadata": {
        "id": "EUQE9RRoazC5"
      },
      "source": [
        "## Split the Dataset\n",
        "\n",
        "Next, you will split the dataset into training and validation sets. There are 3235 points in the dataset and you will use the first 3000 for training."
      ]
    },
    {
      "cell_type": "code",
      "execution_count": 6,
      "metadata": {
        "id": "L92YRw_IpCFG"
      },
      "outputs": [],
      "source": [
        "# Define the split time\n",
        "split_time = 3000\n",
        "\n",
        "# Get the train set \n",
        "time_train = time[:split_time]\n",
        "x_train = series[:split_time]\n",
        "\n",
        "# Get the validation set\n",
        "time_valid = time[split_time:]\n",
        "x_valid = series[split_time:]"
      ]
    },
    {
      "cell_type": "markdown",
      "metadata": {
        "id": "RbuIOrb3a093"
      },
      "source": [
        "## Prepare Features and Labels\n",
        "\n",
        "You can then prepare the dataset windows as before. The window size is set to 30 points (equal to 2.5 years) but feel free to change later on if you want to experiment."
      ]
    },
    {
      "cell_type": "code",
      "execution_count": 7,
      "metadata": {
        "id": "lJwUUZscnG38"
      },
      "outputs": [],
      "source": [
        "def windowed_dataset(series, window_size, batch_size, shuffle_buffer):\n",
        "    \"\"\"Generates dataset windows\n",
        "\n",
        "    Args:\n",
        "      series (array of float) - contains the values of the time series\n",
        "      window_size (int) - the number of time steps to include in the feature\n",
        "      batch_size (int) - the batch size\n",
        "      shuffle_buffer(int) - buffer size to use for the shuffle method\n",
        "\n",
        "    Returns:\n",
        "      dataset (TF Dataset) - TF Dataset containing time windows\n",
        "    \"\"\"\n",
        "  \n",
        "    # Generate a TF Dataset from the series values\n",
        "    dataset = tf.data.Dataset.from_tensor_slices(series)\n",
        "    \n",
        "    # Window the data but only take those with the specified size\n",
        "    dataset = dataset.window(window_size + 1, shift=1, drop_remainder=True)\n",
        "    \n",
        "    # Flatten the windows by putting its elements in a single batch\n",
        "    dataset = dataset.flat_map(lambda window: window.batch(window_size + 1))\n",
        "\n",
        "    # Create tuples with features and labels \n",
        "    dataset = dataset.map(lambda window: (window[:-1], window[-1]))\n",
        "\n",
        "    # Shuffle the windows\n",
        "    dataset = dataset.shuffle(shuffle_buffer)\n",
        "    \n",
        "    # Create batches of windows\n",
        "    dataset = dataset.batch(batch_size).prefetch(1)\n",
        "    \n",
        "    return dataset"
      ]
    },
    {
      "cell_type": "code",
      "execution_count": 8,
      "metadata": {
        "id": "9g5zSxZwZQt_"
      },
      "outputs": [],
      "source": [
        "# Parameters\n",
        "window_size = 30\n",
        "batch_size = 32\n",
        "shuffle_buffer_size = 1000\n",
        "\n",
        "# Generate the dataset windows\n",
        "train_set = windowed_dataset(x_train, window_size, batch_size, shuffle_buffer_size)"
      ]
    },
    {
      "cell_type": "markdown",
      "metadata": {
        "id": "_Lhpi42ta5yP"
      },
      "source": [
        "## Build the Model\n",
        "\n",
        "The model will be 3-layer dense network as shown below."
      ]
    },
    {
      "cell_type": "code",
      "execution_count": 9,
      "metadata": {
        "id": "AclfYY3Mn6Ph",
        "colab": {
          "base_uri": "https://localhost:8080/"
        },
        "outputId": "d47be428-40fe-43a4-fe72-907499b7be34"
      },
      "outputs": [
        {
          "output_type": "stream",
          "name": "stdout",
          "text": [
            "Model: \"sequential\"\n",
            "_________________________________________________________________\n",
            " Layer (type)                Output Shape              Param #   \n",
            "=================================================================\n",
            " dense (Dense)               (None, 30)                930       \n",
            "                                                                 \n",
            " dense_1 (Dense)             (None, 10)                310       \n",
            "                                                                 \n",
            " dense_2 (Dense)             (None, 1)                 11        \n",
            "                                                                 \n",
            "=================================================================\n",
            "Total params: 1,251\n",
            "Trainable params: 1,251\n",
            "Non-trainable params: 0\n",
            "_________________________________________________________________\n"
          ]
        }
      ],
      "source": [
        "# Build the model\n",
        "model = tf.keras.models.Sequential([\n",
        "    tf.keras.layers.Dense(30, input_shape=[window_size], activation=\"relu\"), \n",
        "    tf.keras.layers.Dense(10, activation=\"relu\"),\n",
        "    tf.keras.layers.Dense(1)\n",
        "])\n",
        "\n",
        "# Print the model summary\n",
        "model.summary()"
      ]
    },
    {
      "cell_type": "markdown",
      "metadata": {
        "id": "uyT14hQOa97V"
      },
      "source": [
        "## Tune the Learning Rate\n",
        "\n",
        "You can pick a learning rate by running the same learning rate scheduler code from previous labs."
      ]
    },
    {
      "cell_type": "code",
      "execution_count": 10,
      "metadata": {
        "id": "GXiqsZQ1y4nD",
        "colab": {
          "base_uri": "https://localhost:8080/"
        },
        "outputId": "1ba37b20-015d-4a2e-df93-6677400ec104"
      },
      "outputs": [
        {
          "output_type": "stream",
          "name": "stdout",
          "text": [
            "Epoch 1/100\n",
            "93/93 [==============================] - 7s 16ms/step - loss: 35.1773 - lr: 1.0000e-08\n",
            "Epoch 2/100\n",
            "93/93 [==============================] - 1s 9ms/step - loss: 35.0293 - lr: 1.1220e-08\n",
            "Epoch 3/100\n",
            "93/93 [==============================] - 1s 8ms/step - loss: 34.8748 - lr: 1.2589e-08\n",
            "Epoch 4/100\n",
            "93/93 [==============================] - 1s 10ms/step - loss: 34.7142 - lr: 1.4125e-08\n",
            "Epoch 5/100\n",
            "93/93 [==============================] - 1s 10ms/step - loss: 34.5487 - lr: 1.5849e-08\n",
            "Epoch 6/100\n",
            "93/93 [==============================] - 1s 9ms/step - loss: 34.3776 - lr: 1.7783e-08\n",
            "Epoch 7/100\n",
            "93/93 [==============================] - 1s 5ms/step - loss: 34.1991 - lr: 1.9953e-08\n",
            "Epoch 8/100\n",
            "93/93 [==============================] - 0s 4ms/step - loss: 34.0196 - lr: 2.2387e-08\n",
            "Epoch 9/100\n",
            "93/93 [==============================] - 1s 5ms/step - loss: 33.8401 - lr: 2.5119e-08\n",
            "Epoch 10/100\n",
            "93/93 [==============================] - 1s 4ms/step - loss: 33.6620 - lr: 2.8184e-08\n",
            "Epoch 11/100\n",
            "93/93 [==============================] - 1s 4ms/step - loss: 33.4784 - lr: 3.1623e-08\n",
            "Epoch 12/100\n",
            "93/93 [==============================] - 1s 4ms/step - loss: 33.2907 - lr: 3.5481e-08\n",
            "Epoch 13/100\n",
            "93/93 [==============================] - 1s 4ms/step - loss: 33.0929 - lr: 3.9811e-08\n",
            "Epoch 14/100\n",
            "93/93 [==============================] - 1s 4ms/step - loss: 32.8857 - lr: 4.4668e-08\n",
            "Epoch 15/100\n",
            "93/93 [==============================] - 0s 4ms/step - loss: 32.6701 - lr: 5.0119e-08\n",
            "Epoch 16/100\n",
            "93/93 [==============================] - 1s 4ms/step - loss: 32.4398 - lr: 5.6234e-08\n",
            "Epoch 17/100\n",
            "93/93 [==============================] - 0s 4ms/step - loss: 32.2046 - lr: 6.3096e-08\n",
            "Epoch 18/100\n",
            "93/93 [==============================] - 1s 5ms/step - loss: 31.9584 - lr: 7.0795e-08\n",
            "Epoch 19/100\n",
            "93/93 [==============================] - 0s 4ms/step - loss: 31.7141 - lr: 7.9433e-08\n",
            "Epoch 20/100\n",
            "93/93 [==============================] - 1s 4ms/step - loss: 31.4691 - lr: 8.9125e-08\n",
            "Epoch 21/100\n",
            "93/93 [==============================] - 1s 4ms/step - loss: 31.2155 - lr: 1.0000e-07\n",
            "Epoch 22/100\n",
            "93/93 [==============================] - 1s 4ms/step - loss: 30.9593 - lr: 1.1220e-07\n",
            "Epoch 23/100\n",
            "93/93 [==============================] - 1s 4ms/step - loss: 30.7027 - lr: 1.2589e-07\n",
            "Epoch 24/100\n",
            "93/93 [==============================] - 1s 4ms/step - loss: 30.4449 - lr: 1.4125e-07\n",
            "Epoch 25/100\n",
            "93/93 [==============================] - 1s 4ms/step - loss: 30.1856 - lr: 1.5849e-07\n",
            "Epoch 26/100\n",
            "93/93 [==============================] - 0s 4ms/step - loss: 29.9157 - lr: 1.7783e-07\n",
            "Epoch 27/100\n",
            "93/93 [==============================] - 1s 5ms/step - loss: 29.6509 - lr: 1.9953e-07\n",
            "Epoch 28/100\n",
            "93/93 [==============================] - 0s 4ms/step - loss: 29.3914 - lr: 2.2387e-07\n",
            "Epoch 29/100\n",
            "93/93 [==============================] - 1s 4ms/step - loss: 29.1216 - lr: 2.5119e-07\n",
            "Epoch 30/100\n",
            "93/93 [==============================] - 1s 4ms/step - loss: 28.8504 - lr: 2.8184e-07\n",
            "Epoch 31/100\n",
            "93/93 [==============================] - 0s 4ms/step - loss: 28.5880 - lr: 3.1623e-07\n",
            "Epoch 32/100\n",
            "93/93 [==============================] - 1s 4ms/step - loss: 28.3023 - lr: 3.5481e-07\n",
            "Epoch 33/100\n",
            "93/93 [==============================] - 1s 4ms/step - loss: 27.9952 - lr: 3.9811e-07\n",
            "Epoch 34/100\n",
            "93/93 [==============================] - 1s 4ms/step - loss: 27.6928 - lr: 4.4668e-07\n",
            "Epoch 35/100\n",
            "93/93 [==============================] - 1s 4ms/step - loss: 27.3781 - lr: 5.0119e-07\n",
            "Epoch 36/100\n",
            "93/93 [==============================] - 1s 4ms/step - loss: 26.9782 - lr: 5.6234e-07\n",
            "Epoch 37/100\n",
            "93/93 [==============================] - 0s 4ms/step - loss: 26.6082 - lr: 6.3096e-07\n",
            "Epoch 38/100\n",
            "93/93 [==============================] - 1s 4ms/step - loss: 26.2052 - lr: 7.0795e-07\n",
            "Epoch 39/100\n",
            "93/93 [==============================] - 1s 5ms/step - loss: 25.7801 - lr: 7.9433e-07\n",
            "Epoch 40/100\n",
            "93/93 [==============================] - 0s 4ms/step - loss: 25.3184 - lr: 8.9125e-07\n",
            "Epoch 41/100\n",
            "93/93 [==============================] - 1s 4ms/step - loss: 24.8893 - lr: 1.0000e-06\n",
            "Epoch 42/100\n",
            "93/93 [==============================] - 1s 4ms/step - loss: 24.3753 - lr: 1.1220e-06\n",
            "Epoch 43/100\n",
            "93/93 [==============================] - 1s 5ms/step - loss: 23.9435 - lr: 1.2589e-06\n",
            "Epoch 44/100\n",
            "93/93 [==============================] - 0s 4ms/step - loss: 23.4360 - lr: 1.4125e-06\n",
            "Epoch 45/100\n",
            "93/93 [==============================] - 1s 4ms/step - loss: 22.9216 - lr: 1.5849e-06\n",
            "Epoch 46/100\n",
            "93/93 [==============================] - 0s 4ms/step - loss: 22.5454 - lr: 1.7783e-06\n",
            "Epoch 47/100\n",
            "93/93 [==============================] - 1s 4ms/step - loss: 22.0123 - lr: 1.9953e-06\n",
            "Epoch 48/100\n",
            "93/93 [==============================] - 1s 4ms/step - loss: 21.6426 - lr: 2.2387e-06\n",
            "Epoch 49/100\n",
            "93/93 [==============================] - 1s 4ms/step - loss: 21.1707 - lr: 2.5119e-06\n",
            "Epoch 50/100\n",
            "93/93 [==============================] - 1s 4ms/step - loss: 20.7611 - lr: 2.8184e-06\n",
            "Epoch 51/100\n",
            "93/93 [==============================] - 1s 4ms/step - loss: 20.3266 - lr: 3.1623e-06\n",
            "Epoch 52/100\n",
            "93/93 [==============================] - 1s 4ms/step - loss: 19.9391 - lr: 3.5481e-06\n",
            "Epoch 53/100\n",
            "93/93 [==============================] - 1s 5ms/step - loss: 19.6195 - lr: 3.9811e-06\n",
            "Epoch 54/100\n",
            "93/93 [==============================] - 1s 4ms/step - loss: 19.4884 - lr: 4.4668e-06\n",
            "Epoch 55/100\n",
            "93/93 [==============================] - 1s 4ms/step - loss: 19.0697 - lr: 5.0119e-06\n",
            "Epoch 56/100\n",
            "93/93 [==============================] - 1s 4ms/step - loss: 18.9102 - lr: 5.6234e-06\n",
            "Epoch 57/100\n",
            "93/93 [==============================] - 1s 4ms/step - loss: 18.6567 - lr: 6.3096e-06\n",
            "Epoch 58/100\n",
            "93/93 [==============================] - 0s 4ms/step - loss: 18.5947 - lr: 7.0795e-06\n",
            "Epoch 59/100\n",
            "93/93 [==============================] - 1s 4ms/step - loss: 18.3373 - lr: 7.9433e-06\n",
            "Epoch 60/100\n",
            "93/93 [==============================] - 1s 5ms/step - loss: 18.2194 - lr: 8.9125e-06\n",
            "Epoch 61/100\n",
            "93/93 [==============================] - 1s 4ms/step - loss: 18.0234 - lr: 1.0000e-05\n",
            "Epoch 62/100\n",
            "93/93 [==============================] - 1s 4ms/step - loss: 17.9334 - lr: 1.1220e-05\n",
            "Epoch 63/100\n",
            "93/93 [==============================] - 1s 5ms/step - loss: 18.4431 - lr: 1.2589e-05\n",
            "Epoch 64/100\n",
            "93/93 [==============================] - 1s 4ms/step - loss: 17.8578 - lr: 1.4125e-05\n",
            "Epoch 65/100\n",
            "93/93 [==============================] - 1s 4ms/step - loss: 18.0096 - lr: 1.5849e-05\n",
            "Epoch 66/100\n",
            "93/93 [==============================] - 0s 4ms/step - loss: 17.8213 - lr: 1.7783e-05\n",
            "Epoch 67/100\n",
            "93/93 [==============================] - 1s 4ms/step - loss: 17.9243 - lr: 1.9953e-05\n",
            "Epoch 68/100\n",
            "93/93 [==============================] - 1s 4ms/step - loss: 18.5405 - lr: 2.2387e-05\n",
            "Epoch 69/100\n",
            "93/93 [==============================] - 1s 4ms/step - loss: 17.9661 - lr: 2.5119e-05\n",
            "Epoch 70/100\n",
            "93/93 [==============================] - 1s 5ms/step - loss: 18.2317 - lr: 2.8184e-05\n",
            "Epoch 71/100\n",
            "93/93 [==============================] - 1s 4ms/step - loss: 18.1489 - lr: 3.1623e-05\n",
            "Epoch 72/100\n",
            "93/93 [==============================] - 1s 4ms/step - loss: 17.7372 - lr: 3.5481e-05\n",
            "Epoch 73/100\n",
            "93/93 [==============================] - 1s 4ms/step - loss: 17.9590 - lr: 3.9811e-05\n",
            "Epoch 74/100\n",
            "93/93 [==============================] - 1s 4ms/step - loss: 17.5950 - lr: 4.4668e-05\n",
            "Epoch 75/100\n",
            "93/93 [==============================] - 1s 4ms/step - loss: 18.2020 - lr: 5.0119e-05\n",
            "Epoch 76/100\n",
            "93/93 [==============================] - 1s 4ms/step - loss: 18.8835 - lr: 5.6234e-05\n",
            "Epoch 77/100\n",
            "93/93 [==============================] - 1s 5ms/step - loss: 17.9087 - lr: 6.3096e-05\n",
            "Epoch 78/100\n",
            "93/93 [==============================] - 1s 4ms/step - loss: 17.9832 - lr: 7.0795e-05\n",
            "Epoch 79/100\n",
            "93/93 [==============================] - 1s 4ms/step - loss: 17.7066 - lr: 7.9433e-05\n",
            "Epoch 80/100\n",
            "93/93 [==============================] - 1s 4ms/step - loss: 17.6565 - lr: 8.9125e-05\n",
            "Epoch 81/100\n",
            "93/93 [==============================] - 1s 5ms/step - loss: 17.8089 - lr: 1.0000e-04\n",
            "Epoch 82/100\n",
            "93/93 [==============================] - 1s 4ms/step - loss: 18.6681 - lr: 1.1220e-04\n",
            "Epoch 83/100\n",
            "93/93 [==============================] - 1s 4ms/step - loss: 18.3799 - lr: 1.2589e-04\n",
            "Epoch 84/100\n",
            "93/93 [==============================] - 1s 4ms/step - loss: 18.6391 - lr: 1.4125e-04\n",
            "Epoch 85/100\n",
            "93/93 [==============================] - 1s 4ms/step - loss: 18.9564 - lr: 1.5849e-04\n",
            "Epoch 86/100\n",
            "93/93 [==============================] - 0s 4ms/step - loss: 18.5850 - lr: 1.7783e-04\n",
            "Epoch 87/100\n",
            "93/93 [==============================] - 1s 4ms/step - loss: 20.7057 - lr: 1.9953e-04\n",
            "Epoch 88/100\n",
            "93/93 [==============================] - 1s 5ms/step - loss: 18.6007 - lr: 2.2387e-04\n",
            "Epoch 89/100\n",
            "93/93 [==============================] - 1s 4ms/step - loss: 18.1941 - lr: 2.5119e-04\n",
            "Epoch 90/100\n",
            "93/93 [==============================] - 1s 4ms/step - loss: 19.0587 - lr: 2.8184e-04\n",
            "Epoch 91/100\n",
            "93/93 [==============================] - 1s 4ms/step - loss: 20.7457 - lr: 3.1623e-04\n",
            "Epoch 92/100\n",
            "93/93 [==============================] - 1s 4ms/step - loss: 19.5372 - lr: 3.5481e-04\n",
            "Epoch 93/100\n",
            "93/93 [==============================] - 1s 4ms/step - loss: 22.1199 - lr: 3.9811e-04\n",
            "Epoch 94/100\n",
            "93/93 [==============================] - 1s 4ms/step - loss: 21.2247 - lr: 4.4668e-04\n",
            "Epoch 95/100\n",
            "93/93 [==============================] - 1s 4ms/step - loss: 21.1546 - lr: 5.0119e-04\n",
            "Epoch 96/100\n",
            "93/93 [==============================] - 1s 5ms/step - loss: 24.7830 - lr: 5.6234e-04\n",
            "Epoch 97/100\n",
            "93/93 [==============================] - 1s 4ms/step - loss: 27.3230 - lr: 6.3096e-04\n",
            "Epoch 98/100\n",
            "93/93 [==============================] - 1s 4ms/step - loss: 25.4991 - lr: 7.0795e-04\n",
            "Epoch 99/100\n",
            "93/93 [==============================] - 0s 4ms/step - loss: 31.1171 - lr: 7.9433e-04\n",
            "Epoch 100/100\n",
            "93/93 [==============================] - 1s 4ms/step - loss: 26.3976 - lr: 8.9125e-04\n"
          ]
        }
      ],
      "source": [
        "# Set the learning rate scheduler\n",
        "lr_schedule = tf.keras.callbacks.LearningRateScheduler(\n",
        "    lambda epoch: 1e-8 * 10**(epoch / 20))\n",
        "\n",
        "# Initialize the optimizer\n",
        "optimizer = tf.keras.optimizers.SGD(momentum=0.9)\n",
        "\n",
        "# Set the training parameters\n",
        "model.compile(loss=tf.keras.losses.Huber(), optimizer=optimizer)\n",
        "\n",
        "# Train the model\n",
        "history = model.fit(train_set, epochs=100, callbacks=[lr_schedule])"
      ]
    },
    {
      "cell_type": "code",
      "execution_count": 11,
      "metadata": {
        "id": "xJFAB1NTzGJV",
        "colab": {
          "base_uri": "https://localhost:8080/",
          "height": 405
        },
        "outputId": "deea30af-9390-4db1-8eaf-d0a6c853e99a"
      },
      "outputs": [
        {
          "output_type": "execute_result",
          "data": {
            "text/plain": [
              "(1e-08, 0.001, 0.0, 100.0)"
            ]
          },
          "metadata": {},
          "execution_count": 11
        },
        {
          "output_type": "display_data",
          "data": {
            "text/plain": [
              "<Figure size 720x432 with 1 Axes>"
            ],
            "image/png": "[encoded data removed]"
          },
          "metadata": {
            "needs_background": "light"
          }
        }
      ],
      "source": [
        "# Define the learning rate array\n",
        "lrs = 1e-8 * (10 ** (np.arange(100) / 20))\n",
        "\n",
        "# Set the figure size\n",
        "plt.figure(figsize=(10, 6))\n",
        "\n",
        "# Set the grid\n",
        "plt.grid(True)\n",
        "\n",
        "# Plot the loss in log scale\n",
        "plt.semilogx(lrs, history.history[\"loss\"])\n",
        "\n",
        "# Increase the tickmarks size\n",
        "plt.tick_params('both', length=10, width=1, which='both')\n",
        "\n",
        "# Set the plot boundaries\n",
        "plt.axis([1e-8, 1e-3, 0, 100])"
      ]
    },
    {
      "cell_type": "markdown",
      "metadata": {
        "id": "oY4mnUpNbFdc"
      },
      "source": [
        "## Train the Model\n",
        "\n",
        "Once you've picked a learning rate, you can rebuild the model and start training."
      ]
    },
    {
      "cell_type": "code",
      "execution_count": 12,
      "metadata": {
        "id": "Ngna3zR4znJd"
      },
      "outputs": [],
      "source": [
        "# Reset states generated by Keras\n",
        "tf.keras.backend.clear_session()\n",
        "\n",
        "# Build the Model\n",
        "model = tf.keras.models.Sequential([\n",
        "    tf.keras.layers.Dense(30, input_shape=[window_size], activation=\"relu\"), \n",
        "    tf.keras.layers.Dense(10, activation=\"relu\"),\n",
        "    tf.keras.layers.Dense(1)\n",
        "])"
      ]
    },
    {
      "cell_type": "code",
      "execution_count": 13,
      "metadata": {
        "id": "7FKXvEYxzuoc",
        "colab": {
          "base_uri": "https://localhost:8080/"
        },
        "outputId": "85341c67-0f83-4884-eb00-e94a232b665b"
      },
      "outputs": [
        {
          "output_type": "stream",
          "name": "stdout",
          "text": [
            "Epoch 1/100\n",
            "93/93 [==============================] - 1s 5ms/step - loss: 35.8225 - mae: 36.3173\n",
            "Epoch 2/100\n",
            "93/93 [==============================] - 1s 4ms/step - loss: 21.1317 - mae: 21.6248\n",
            "Epoch 3/100\n",
            "93/93 [==============================] - 1s 5ms/step - loss: 19.5937 - mae: 20.0868\n",
            "Epoch 4/100\n",
            "93/93 [==============================] - 1s 5ms/step - loss: 18.8569 - mae: 19.3492\n",
            "Epoch 5/100\n",
            "93/93 [==============================] - 1s 5ms/step - loss: 19.0321 - mae: 19.5251\n",
            "Epoch 6/100\n",
            "93/93 [==============================] - 1s 5ms/step - loss: 18.4735 - mae: 18.9654\n",
            "Epoch 7/100\n",
            "93/93 [==============================] - 1s 5ms/step - loss: 18.0177 - mae: 18.5097\n",
            "Epoch 8/100\n",
            "93/93 [==============================] - 1s 5ms/step - loss: 18.5093 - mae: 19.0016\n",
            "Epoch 9/100\n",
            "93/93 [==============================] - 1s 4ms/step - loss: 17.8155 - mae: 18.3072\n",
            "Epoch 10/100\n",
            "93/93 [==============================] - 1s 7ms/step - loss: 17.6839 - mae: 18.1758\n",
            "Epoch 11/100\n",
            "93/93 [==============================] - 1s 5ms/step - loss: 17.6755 - mae: 18.1661\n",
            "Epoch 12/100\n",
            "93/93 [==============================] - 1s 4ms/step - loss: 17.8429 - mae: 18.3337\n",
            "Epoch 13/100\n",
            "93/93 [==============================] - 1s 5ms/step - loss: 17.5973 - mae: 18.0888\n",
            "Epoch 14/100\n",
            "93/93 [==============================] - 1s 5ms/step - loss: 17.4970 - mae: 17.9882\n",
            "Epoch 15/100\n",
            "93/93 [==============================] - 1s 5ms/step - loss: 17.4275 - mae: 17.9188\n",
            "Epoch 16/100\n",
            "93/93 [==============================] - 1s 5ms/step - loss: 17.2869 - mae: 17.7795\n",
            "Epoch 17/100\n",
            "93/93 [==============================] - 1s 5ms/step - loss: 17.2088 - mae: 17.6994\n",
            "Epoch 18/100\n",
            "93/93 [==============================] - 1s 5ms/step - loss: 17.2829 - mae: 17.7752\n",
            "Epoch 19/100\n",
            "93/93 [==============================] - 1s 4ms/step - loss: 17.3752 - mae: 17.8672\n",
            "Epoch 20/100\n",
            "93/93 [==============================] - 1s 4ms/step - loss: 17.4411 - mae: 17.9319\n",
            "Epoch 21/100\n",
            "93/93 [==============================] - 1s 5ms/step - loss: 17.4852 - mae: 17.9757\n",
            "Epoch 22/100\n",
            "93/93 [==============================] - 1s 5ms/step - loss: 17.1687 - mae: 17.6593\n",
            "Epoch 23/100\n",
            "93/93 [==============================] - 1s 5ms/step - loss: 17.2128 - mae: 17.7037\n",
            "Epoch 24/100\n",
            "93/93 [==============================] - 1s 5ms/step - loss: 17.1894 - mae: 17.6794\n",
            "Epoch 25/100\n",
            "93/93 [==============================] - 1s 5ms/step - loss: 17.4325 - mae: 17.9231\n",
            "Epoch 26/100\n",
            "93/93 [==============================] - 1s 5ms/step - loss: 17.1261 - mae: 17.6177\n",
            "Epoch 27/100\n",
            "93/93 [==============================] - 1s 4ms/step - loss: 17.2450 - mae: 17.7369\n",
            "Epoch 28/100\n",
            "93/93 [==============================] - 1s 5ms/step - loss: 17.2091 - mae: 17.6999\n",
            "Epoch 29/100\n",
            "93/93 [==============================] - 1s 5ms/step - loss: 17.2206 - mae: 17.7115\n",
            "Epoch 30/100\n",
            "93/93 [==============================] - 1s 5ms/step - loss: 17.0387 - mae: 17.5289\n",
            "Epoch 31/100\n",
            "93/93 [==============================] - 1s 5ms/step - loss: 17.1961 - mae: 17.6858\n",
            "Epoch 32/100\n",
            "93/93 [==============================] - 1s 5ms/step - loss: 16.9243 - mae: 17.4151\n",
            "Epoch 33/100\n",
            "93/93 [==============================] - 1s 5ms/step - loss: 17.1210 - mae: 17.6121\n",
            "Epoch 34/100\n",
            "93/93 [==============================] - 1s 4ms/step - loss: 17.0779 - mae: 17.5687\n",
            "Epoch 35/100\n",
            "93/93 [==============================] - 1s 5ms/step - loss: 16.9542 - mae: 17.4439\n",
            "Epoch 36/100\n",
            "93/93 [==============================] - 1s 5ms/step - loss: 17.0691 - mae: 17.5603\n",
            "Epoch 37/100\n",
            "93/93 [==============================] - 1s 5ms/step - loss: 17.0494 - mae: 17.5392\n",
            "Epoch 38/100\n",
            "93/93 [==============================] - 1s 4ms/step - loss: 16.9493 - mae: 17.4402\n",
            "Epoch 39/100\n",
            "93/93 [==============================] - 1s 5ms/step - loss: 16.8805 - mae: 17.3722\n",
            "Epoch 40/100\n",
            "93/93 [==============================] - 1s 5ms/step - loss: 17.0847 - mae: 17.5753\n",
            "Epoch 41/100\n",
            "93/93 [==============================] - 1s 4ms/step - loss: 16.9343 - mae: 17.4236\n",
            "Epoch 42/100\n",
            "93/93 [==============================] - 1s 5ms/step - loss: 17.0075 - mae: 17.4980\n",
            "Epoch 43/100\n",
            "93/93 [==============================] - 1s 6ms/step - loss: 16.8356 - mae: 17.3258\n",
            "Epoch 44/100\n",
            "93/93 [==============================] - 1s 8ms/step - loss: 17.0253 - mae: 17.5156\n",
            "Epoch 45/100\n",
            "93/93 [==============================] - 1s 5ms/step - loss: 16.9009 - mae: 17.3910\n",
            "Epoch 46/100\n",
            "93/93 [==============================] - 1s 5ms/step - loss: 16.9323 - mae: 17.4236\n",
            "Epoch 47/100\n",
            "93/93 [==============================] - 1s 5ms/step - loss: 16.8460 - mae: 17.3373\n",
            "Epoch 48/100\n",
            "93/93 [==============================] - 1s 5ms/step - loss: 16.8450 - mae: 17.3362\n",
            "Epoch 49/100\n",
            "93/93 [==============================] - 1s 5ms/step - loss: 16.8198 - mae: 17.3097\n",
            "Epoch 50/100\n",
            "93/93 [==============================] - 1s 5ms/step - loss: 16.9315 - mae: 17.4218\n",
            "Epoch 51/100\n",
            "93/93 [==============================] - 1s 5ms/step - loss: 16.8660 - mae: 17.3563\n",
            "Epoch 52/100\n",
            "93/93 [==============================] - 1s 4ms/step - loss: 17.0521 - mae: 17.5436\n",
            "Epoch 53/100\n",
            "93/93 [==============================] - 1s 5ms/step - loss: 16.8344 - mae: 17.3253\n",
            "Epoch 54/100\n",
            "93/93 [==============================] - 1s 4ms/step - loss: 16.8900 - mae: 17.3806\n",
            "Epoch 55/100\n",
            "93/93 [==============================] - 1s 5ms/step - loss: 16.9416 - mae: 17.4327\n",
            "Epoch 56/100\n",
            "93/93 [==============================] - 1s 5ms/step - loss: 17.0544 - mae: 17.5457\n",
            "Epoch 57/100\n",
            "93/93 [==============================] - 1s 4ms/step - loss: 16.6743 - mae: 17.1652\n",
            "Epoch 58/100\n",
            "93/93 [==============================] - 1s 5ms/step - loss: 16.8353 - mae: 17.3263\n",
            "Epoch 59/100\n",
            "93/93 [==============================] - 1s 4ms/step - loss: 17.0425 - mae: 17.5333\n",
            "Epoch 60/100\n",
            "93/93 [==============================] - 1s 5ms/step - loss: 16.8105 - mae: 17.3020\n",
            "Epoch 61/100\n",
            "93/93 [==============================] - 1s 5ms/step - loss: 16.7725 - mae: 17.2638\n",
            "Epoch 62/100\n",
            "93/93 [==============================] - 1s 5ms/step - loss: 16.8501 - mae: 17.3414\n",
            "Epoch 63/100\n",
            "93/93 [==============================] - 1s 5ms/step - loss: 16.9423 - mae: 17.4351\n",
            "Epoch 64/100\n",
            "93/93 [==============================] - 1s 5ms/step - loss: 16.7350 - mae: 17.2267\n",
            "Epoch 65/100\n",
            "93/93 [==============================] - 1s 5ms/step - loss: 16.9580 - mae: 17.4470\n",
            "Epoch 66/100\n",
            "93/93 [==============================] - 1s 4ms/step - loss: 17.0314 - mae: 17.5223\n",
            "Epoch 67/100\n",
            "93/93 [==============================] - 1s 5ms/step - loss: 16.7045 - mae: 17.1969\n",
            "Epoch 68/100\n",
            "93/93 [==============================] - 1s 5ms/step - loss: 16.7990 - mae: 17.2909\n",
            "Epoch 69/100\n",
            "93/93 [==============================] - 1s 5ms/step - loss: 16.7332 - mae: 17.2247\n",
            "Epoch 70/100\n",
            "93/93 [==============================] - 1s 5ms/step - loss: 16.7683 - mae: 17.2577\n",
            "Epoch 71/100\n",
            "93/93 [==============================] - 1s 5ms/step - loss: 16.9706 - mae: 17.4623\n",
            "Epoch 72/100\n",
            "93/93 [==============================] - 1s 5ms/step - loss: 16.8206 - mae: 17.3117\n",
            "Epoch 73/100\n",
            "93/93 [==============================] - 1s 5ms/step - loss: 16.8579 - mae: 17.3492\n",
            "Epoch 74/100\n",
            "93/93 [==============================] - 1s 5ms/step - loss: 16.6675 - mae: 17.1574\n",
            "Epoch 75/100\n",
            "93/93 [==============================] - 1s 5ms/step - loss: 16.8734 - mae: 17.3635\n",
            "Epoch 76/100\n",
            "93/93 [==============================] - 1s 4ms/step - loss: 16.9560 - mae: 17.4464\n",
            "Epoch 77/100\n",
            "93/93 [==============================] - 1s 5ms/step - loss: 16.6838 - mae: 17.1720\n",
            "Epoch 78/100\n",
            "93/93 [==============================] - 1s 5ms/step - loss: 16.6903 - mae: 17.1801\n",
            "Epoch 79/100\n",
            "93/93 [==============================] - 1s 5ms/step - loss: 16.6045 - mae: 17.0945\n",
            "Epoch 80/100\n",
            "93/93 [==============================] - 1s 5ms/step - loss: 16.6346 - mae: 17.1241\n",
            "Epoch 81/100\n",
            "93/93 [==============================] - 1s 5ms/step - loss: 16.5668 - mae: 17.0562\n",
            "Epoch 82/100\n",
            "93/93 [==============================] - 1s 5ms/step - loss: 16.6178 - mae: 17.1087\n",
            "Epoch 83/100\n",
            "93/93 [==============================] - 1s 4ms/step - loss: 16.5843 - mae: 17.0742\n",
            "Epoch 84/100\n",
            "93/93 [==============================] - 1s 5ms/step - loss: 16.7320 - mae: 17.2218\n",
            "Epoch 85/100\n",
            "93/93 [==============================] - 1s 4ms/step - loss: 16.6991 - mae: 17.1879\n",
            "Epoch 86/100\n",
            "93/93 [==============================] - 1s 5ms/step - loss: 16.5766 - mae: 17.0668\n",
            "Epoch 87/100\n",
            "93/93 [==============================] - 1s 5ms/step - loss: 16.7079 - mae: 17.1978\n",
            "Epoch 88/100\n",
            "93/93 [==============================] - 1s 5ms/step - loss: 16.5715 - mae: 17.0607\n",
            "Epoch 89/100\n",
            "93/93 [==============================] - 1s 4ms/step - loss: 16.7035 - mae: 17.1943\n",
            "Epoch 90/100\n",
            "93/93 [==============================] - 1s 5ms/step - loss: 16.5497 - mae: 17.0386\n",
            "Epoch 91/100\n",
            "93/93 [==============================] - 1s 4ms/step - loss: 16.5937 - mae: 17.0833\n",
            "Epoch 92/100\n",
            "93/93 [==============================] - 1s 5ms/step - loss: 16.7026 - mae: 17.1911\n",
            "Epoch 93/100\n",
            "93/93 [==============================] - 1s 5ms/step - loss: 16.7038 - mae: 17.1927\n",
            "Epoch 94/100\n",
            "93/93 [==============================] - 1s 5ms/step - loss: 16.5962 - mae: 17.0853\n",
            "Epoch 95/100\n",
            "93/93 [==============================] - 1s 5ms/step - loss: 16.6594 - mae: 17.1493\n",
            "Epoch 96/100\n",
            "93/93 [==============================] - 1s 5ms/step - loss: 16.6647 - mae: 17.1539\n",
            "Epoch 97/100\n",
            "93/93 [==============================] - 1s 5ms/step - loss: 16.7484 - mae: 17.2371\n",
            "Epoch 98/100\n",
            "93/93 [==============================] - 1s 4ms/step - loss: 16.5808 - mae: 17.0711\n",
            "Epoch 99/100\n",
            "93/93 [==============================] - 1s 5ms/step - loss: 16.7298 - mae: 17.2190\n",
            "Epoch 100/100\n",
            "93/93 [==============================] - 1s 5ms/step - loss: 16.7143 - mae: 17.2050\n"
          ]
        }
      ],
      "source": [
        "# Set the learning rate\n",
        "learning_rate = 2e-5\n",
        "\n",
        "# Set the optimizer \n",
        "optimizer = tf.keras.optimizers.SGD(learning_rate=learning_rate, momentum=0.9)\n",
        "\n",
        "# Set the training parameters\n",
        "model.compile(loss=tf.keras.losses.Huber(),\n",
        "              optimizer=optimizer,\n",
        "              metrics=[\"mae\"])\n",
        "\n",
        "# Train the model\n",
        "history = model.fit(train_set,epochs=100)"
      ]
    },
    {
      "cell_type": "markdown",
      "metadata": {
        "id": "b1iV2t8ibIka"
      },
      "source": [
        "## Model Prediction\n",
        "\n",
        "Now see if the model generates good results. If you used the default parameters of this notebook, you should see the predictions follow the shape of the ground truth with an MAE of around 15. "
      ]
    },
    {
      "cell_type": "code",
      "execution_count": 14,
      "metadata": {
        "id": "djn06Tri2B6_"
      },
      "outputs": [],
      "source": [
        "def model_forecast(model, series, window_size, batch_size):\n",
        "    \"\"\"Uses an input model to generate predictions on data windows\n",
        "\n",
        "    Args:\n",
        "      model (TF Keras Model) - model that accepts data windows\n",
        "      series (array of float) - contains the values of the time series\n",
        "      window_size (int) - the number of time steps to include in the window\n",
        "      batch_size (int) - the batch size\n",
        "\n",
        "    Returns:\n",
        "      forecast (numpy array) - array containing predictions\n",
        "    \"\"\"\n",
        "\n",
        "    # Generate a TF Dataset from the series values\n",
        "    dataset = tf.data.Dataset.from_tensor_slices(series)\n",
        "\n",
        "    # Window the data but only take those with the specified size\n",
        "    dataset = dataset.window(window_size, shift=1, drop_remainder=True)\n",
        "\n",
        "    # Flatten the windows by putting its elements in a single batch\n",
        "    dataset = dataset.flat_map(lambda w: w.batch(window_size))\n",
        "    \n",
        "    # Create batches of windows\n",
        "    dataset = dataset.batch(batch_size).prefetch(1)\n",
        "    \n",
        "    # Get predictions on the entire dataset\n",
        "    forecast = model.predict(dataset)\n",
        "    \n",
        "    return forecast"
      ]
    },
    {
      "cell_type": "code",
      "execution_count": 15,
      "metadata": {
        "id": "GaC6NNMRp0lb",
        "colab": {
          "base_uri": "https://localhost:8080/",
          "height": 374
        },
        "outputId": "27537c1a-f79b-4a0b-e9d3-f7acef0ba82d"
      },
      "outputs": [
        {
          "output_type": "display_data",
          "data": {
            "text/plain": [
              "<Figure size 720x432 with 1 Axes>"
            ],
            "image/png": "[encoded data removed]"
          },
          "metadata": {
            "needs_background": "light"
          }
        }
      ],
      "source": [
        "# Reduce the original series\n",
        "forecast_series = series[split_time-window_size:-1]\n",
        "\n",
        "# Use helper function to generate predictions\n",
        "forecast = model_forecast(model, forecast_series, window_size, batch_size)\n",
        "\n",
        "# Drop single dimensional axis\n",
        "results = forecast.squeeze()\n",
        "\n",
        "# Plot the results\n",
        "plot_series(time_valid, (x_valid, results))"
      ]
    },
    {
      "cell_type": "code",
      "execution_count": 16,
      "metadata": {
        "id": "13XrorC5wQoE",
        "colab": {
          "base_uri": "https://localhost:8080/"
        },
        "outputId": "d3db345b-eea1-4cde-9102-3dc0c24fd59a"
      },
      "outputs": [
        {
          "output_type": "stream",
          "name": "stdout",
          "text": [
            "14.725908\n"
          ]
        }
      ],
      "source": [
        "# Compute the MAE\n",
        "print(tf.keras.metrics.mean_absolute_error(x_valid, results).numpy())"
      ]
    },
    {
      "cell_type": "markdown",
      "metadata": {
        "id": "YqMGN9S5veN2"
      },
      "source": [
        "## Wrap Up\n",
        "\n",
        "In this lab, you built a relatively simple DNN to forecast sunspot numbers for a given month. We encourage you to tweak the parameters or train longer and see the best results you can get. In the next lab, you will build a more complex model and you evaluate if the added complexity translates to better or worse results."
      ]
    }
  ],
  "metadata": {
    "colab": {
      "collapsed_sections": [],
      "name": "C4_W4_Lab_2_Sunspots_DNN.ipynb",
      "provenance": []
    },
    "kernelspec": {
      "display_name": "Python 3",
      "language": "python",
      "name": "python3"
    },
    "language_info": {
      "codemirror_mode": {
        "name": "ipython",
        "version": 3
      },
      "file_extension": ".py",
      "mimetype": "text/x-python",
      "name": "python",
      "nbconvert_exporter": "python",
      "pygments_lexer": "ipython3",
      "version": "3.7.4"
    },
    "accelerator": "GPU",
    "gpuClass": "standard"
  },
  "nbformat": 4,
  "nbformat_minor": 0
}